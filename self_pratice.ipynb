{
 "cells": [
  {
   "cell_type": "markdown",
   "id": "67fee9a8e3989e91",
   "metadata": {},
   "source": [
    "# 自己练习\n",
    "看看到底各类聚类算法能不能很好的将以下这个带有标签的数据，按照属性进行聚类，最终和实际的“类别进行比较”"
   ]
  },
  {
   "cell_type": "markdown",
   "id": "44459af7273d450e",
   "metadata": {},
   "source": [
    "## step1:数据处理\n",
    "利用ai对原始数据进行提取，对原来的图片表格数据进行提取"
   ]
  },
  {
   "cell_type": "code",
   "execution_count": 4,
   "id": "initial_id",
   "metadata": {
    "ExecuteTime": {
     "end_time": "2025-10-05T18:49:11.913142Z",
     "start_time": "2025-10-05T18:49:11.892112Z"
    },
    "collapsed": true,
    "jupyter": {
     "outputs_hidden": true
    }
   },
   "outputs": [
    {
     "name": "stdout",
     "output_type": "stream",
     "text": [
      "    动力  意愿  兴趣  时间\n",
      "0  0.5   0   0   1\n",
      "1  0.5   0   1   0\n",
      "2  0.8   1   1   1\n",
      "3  0.5   0   0   1\n",
      "4  0.5   0   0   0\n",
      "5  0.5   1   0   0\n",
      "6  0.5   1   1   1\n",
      "7  0.5   1   1   1\n",
      "8  0.8   1   1   1\n",
      "9  0.2   0   0   0\n"
     ]
    }
   ],
   "source": [
    "import pandas as pd\n",
    "from sklearn.metrics import accuracy_score\n",
    "\n",
    "# 手动数字化表格内容\n",
    "data = {\n",
    "    \"动力\": [\"一般\",\"一般\",\"很强\",\"一般\",\"一般\",\"一般\",\"一般\",\"一般\",\"很强\",\"很弱\"],\n",
    "    \"意愿\": [\"否\",\"否\",\"是\",\"否\",\"否\",\"是\",\"是\",\"是\",\"是\",\"否\"],\n",
    "    \"兴趣\": [\"否\",\"是\",\"是\",\"否\",\"否\",\"否\",\"是\",\"是\",\"是\",\"否\"],\n",
    "    \"时间\": [\"有\",\"无\",\"有\",\"有\",\"无\",\"无\",\"有\",\"有\",\"有\",\"无\"],\n",
    "    # \"类别\": [\"否\",\"否\",\"是\",\"否\",\"否\",\"否\",\"是\",\"是\",\"是\",\"否\"]\n",
    "}\n",
    "\n",
    "# 转换规则：\n",
    "# \"动力\" -> 一般=0.5, 很强=1, 很弱=0\n",
    "# \"想提升能力\",\"有兴趣\",\"时间\",\"类别\" -> 是=1, 否/无=0, 有=1\n",
    "mapping_dongli = {\"一般\":0.5, \"很强\":0.8, \"很弱\":0.2}\n",
    "mapping_bool = {\"是\":1, \"否\":0, \"有\":1, \"无\":0}\n",
    "\n",
    "df = pd.DataFrame(data)\n",
    "\n",
    "df[\"动力\"] = df[\"动力\"].map(mapping_dongli)\n",
    "df[\"意愿\"] = df[\"意愿\"].map(mapping_bool)\n",
    "df[\"兴趣\"] = df[\"兴趣\"].map(mapping_bool)\n",
    "df[\"时间\"] = df[\"时间\"].map(mapping_bool)\n",
    "# df[\"类别\"] = df[\"类别\"].map(mapping_bool)\n",
    "\n",
    "print(df)\n",
    "# import caas_jupyter_tools\n",
    "# caas_jupyter_tools.display_dataframe_to_user(\"数字化后的表格\", df)\n"
   ]
  },
  {
   "cell_type": "markdown",
   "id": "57eb770213a61e10",
   "metadata": {},
   "source": [
    "## step2:\n",
    "利用Kmeans、DBSCAN、means-shift进行聚类"
   ]
  },
  {
   "cell_type": "markdown",
   "id": "f52710abc9a70d99",
   "metadata": {},
   "source": [
    "### Kmeans："
   ]
  },
  {
   "cell_type": "code",
   "execution_count": null,
   "id": "95873fd59fab937c",
   "metadata": {},
   "outputs": [],
   "source": [
    "from sklearn.cluster import KMeans\n",
    "\n",
    "kmeans = KMeans(n_clusters=2, random_state=0)\n",
    "kmeans.fit(df)"
   ]
  },
  {
   "cell_type": "code",
   "execution_count": 6,
   "id": "6f8dbad06b40dd7f",
   "metadata": {
    "ExecuteTime": {
     "end_time": "2025-10-05T04:51:17.111656Z",
     "start_time": "2025-10-05T04:51:17.103641Z"
    }
   },
   "outputs": [
    {
     "data": {
      "text/plain": [
       "array([0, 0, 1, 0, 0, 0, 1, 1, 1, 0], dtype=int32)"
      ]
     },
     "execution_count": 6,
     "metadata": {},
     "output_type": "execute_result"
    }
   ],
   "source": [
    "kmeans.predict(df)"
   ]
  },
  {
   "cell_type": "code",
   "execution_count": 5,
   "id": "2bf0fe9b977c4a17",
   "metadata": {
    "ExecuteTime": {
     "end_time": "2025-10-05T04:42:47.745693Z",
     "start_time": "2025-10-05T04:42:46.207721Z"
    }
   },
   "outputs": [
    {
     "name": "stdout",
     "output_type": "stream",
     "text": [
      "[0 0 1 0 0 0 1 1 1 0]\n"
     ]
    },
    {
     "name": "stderr",
     "output_type": "stream",
     "text": [
      "C:\\Users\\38473\\miniconda3\\Lib\\site-packages\\sklearn\\cluster\\_kmeans.py:1419: UserWarning: KMeans is known to have a memory leak on Windows with MKL, when there are less chunks than available threads. You can avoid it by setting the environment variable OMP_NUM_THREADS=1.\n",
      "  warnings.warn(\n"
     ]
    }
   ],
   "source": [
    "\n",
    "print(kmeans.labels_)"
   ]
  },
  {
   "cell_type": "markdown",
   "id": "5ac9abe0efbb8106",
   "metadata": {},
   "source": [
    "#### hopkins_statistic算法，可以用来衡量无标签数据的聚合趋势，在聚类之前难道不应应该首先对数据的“聚合程度”进行量化，看是否有聚合的必要\n",
    "#### 其中该返回值值越接近1，则数据越Aggregate（聚合）\n",
    "#### 0.5 则说明为随机分布\n",
    "#### 0 则说明数据为网格分布"
   ]
  },
  {
   "cell_type": "code",
   "execution_count": null,
   "id": "9ffff98dee606f9b",
   "metadata": {},
   "outputs": [],
   "source": [
    "import numpy as np\n",
    "\n",
    "def hopkins_statistic(X, m=None, random_state=None):\n",
    "    \"\"\"\n",
    "    X: ndarray (n_samples, n_features)\n",
    "    m: number of sample points to use (default: min( n_samples//2, 50 ))\n",
    "    return: Hopkins statistic (float)\n",
    "    \"\"\"\n",
    "    rng = np.random.RandomState(random_state)\n",
    "    n, d = X.shape\n",
    "    if m is None:\n",
    "        m = max(10, min(n//2, 50))\n",
    "    # 1) 随机选 m 个原始点（索引）\n",
    "    idx = rng.choice(np.arange(n), size=m, replace=False)\n",
    "    X_m = X[idx]\n",
    "\n",
    "    # 2) 为每个随机点在 X 中查找最近邻（不包括自己）\n",
    "    nbrs = NearestNeighbors(n_neighbors=2).fit(X)\n",
    "    distances_real, _ = nbrs.kneighbors(X_m, n_neighbors=2)  # 第一列就是点自己距离0\n",
    "    w = distances_real[:, 1]  # 距离最近的其他真实点\n",
    "\n",
    "    # 3) 在每个维度的范围内生成 m 个均匀随机点（bounding box）\n",
    "    mins = X.min(axis=0)\n",
    "    maxs = X.max(axis=0)\n",
    "    U = rng.uniform(mins, maxs, size=(m, d))\n",
    "\n",
    "    # 4) 计算每个随机点到原始数据最近点的距离\n",
    "    nbrs_all = NearestNeighbors(n_neighbors=1).fit(X)\n",
    "    u, _ = nbrs_all.kneighbors(U, n_neighbors=1)\n",
    "    u = u.ravel()\n",
    "\n",
    "    H = u.sum() / (u.sum() + w.sum())\n",
    "    return H\n",
    "\n",
    "hopkins_statistic(df)"
   ]
  },
  {
   "cell_type": "code",
   "execution_count": 2,
   "id": "a9f287fc983d9d86",
   "metadata": {
    "ExecuteTime": {
     "end_time": "2025-10-05T17:22:10.234343Z",
     "start_time": "2025-10-05T17:22:10.215117Z"
    }
   },
   "outputs": [
    {
     "name": "stdout",
     "output_type": "stream",
     "text": [
      "0.1739064214618207\n"
     ]
    }
   ],
   "source": [
    "from sklearn import datasets\n",
    "from pyclustertend import hopkins\n",
    "from sklearn.preprocessing import scale\n",
    "\n",
    "X = scale(datasets.load_iris().data)\n",
    "score = hopkins(X, 150)\n",
    "print(score)"
   ]
  },
  {
   "cell_type": "markdown",
   "id": "80f32c0211da9257",
   "metadata": {},
   "source": [
    "# 对示例数据使用决策树分析一下"
   ]
  },
  {
   "cell_type": "code",
   "execution_count": 28,
   "id": "771d63e2a7d8ce19",
   "metadata": {
    "ExecuteTime": {
     "end_time": "2025-10-06T14:16:54.210266Z",
     "start_time": "2025-10-06T14:16:54.023488Z"
    }
   },
   "outputs": [
    {
     "data": {
      "image/png": "[encoded data removed]",
      "text/plain": [
       "<Figure size 640x480 with 1 Axes>"
      ]
     },
     "metadata": {},
     "output_type": "display_data"
    }
   ],
   "source": [
    "from sklearn.datasets import load_iris\n",
    "from sklearn.metrics import accuracy_score\n",
    "from sklearn.tree import plot_tree\n",
    "from sklearn import tree\n",
    "\n",
    "\n",
    "import matplotlib.pyplot as plt\n",
    "iris = load_iris()\n",
    "X, y = iris.data, iris.target\n",
    "clf = tree.DecisionTreeClassifier()\n",
    "clf = clf.fit(X,y)\n",
    "\n",
    "# print(accuracy_score(y, clf.predict(X)))\n",
    "\n",
    "# tree.plot_tree(clf)\n",
    "\n",
    "plot_tree(clf,\n",
    "          # feature_names=['x1', 'x2', 'x3'],  # 替换为您的特征名\n",
    "          # class_names=['Class 0', 'Class 1'],  # 替换为您的类别名\n",
    "          filled=True,  # 填充节点颜色\n",
    "          rounded=True,  # 圆角节点\n",
    "          fontsize=5)\n",
    "plt.show()"
   ]
  },
  {
   "cell_type": "markdown",
   "id": "47a795da7b1b2836",
   "metadata": {},
   "source": [
    "# test KNN algotithm in <mark>IRIS data</mark>"
   ]
  },
  {
   "cell_type": "markdown",
   "id": "4c002b7482eed985",
   "metadata": {},
   "source": [
    "## Initial data processing\n",
    "get data\n",
    "\n",
    "Split data of train and test"
   ]
  },
  {
   "cell_type": "code",
   "execution_count": 5,
   "id": "64b98cbd80e11917",
   "metadata": {
    "ExecuteTime": {
     "end_time": "2025-10-12T22:33:57.149691Z",
     "start_time": "2025-10-12T22:33:57.131690Z"
    }
   },
   "outputs": [],
   "source": [
    "from sklearn.datasets import load_iris\n",
    "from sklearn.model_selection import train_test_split\n",
    "\n",
    "from sklearn.neighbors import KNeighborsClassifier\n",
    "from sklearn.decomposition import PCA\n",
    "from sklearn.preprocessing import StandardScaler\n",
    "from sklearn.discriminant_analysis import LinearDiscriminantAnalysis\n",
    "from umap import UMAP\n",
    "\n",
    "\n",
    "from sklearn.pipeline import Pipeline\n",
    "import matplotlib.pyplot as plt\n",
    "plt.rcParams['font.sans-serif'] = ['SimHei']  # 设置中文字体\n",
    "plt.rcParams['axes.unicode_minus'] = False    # 正常显示负\n",
    "import plotly.express as px\n",
    "\n",
    "import numpy as np\n",
    "\n",
    "X,y = load_iris(return_X_y= True)\n",
    "\n",
    "X_train,X_val,y_train,y_val = train_test_split(X, y, test_size=1/3, random_state=818)\n"
   ]
  },
  {
   "cell_type": "code",
   "execution_count": 11,
   "id": "23bd461c2b2ecce8",
   "metadata": {
    "ExecuteTime": {
     "end_time": "2025-10-12T22:40:39.434135Z",
     "start_time": "2025-10-12T22:40:39.423157Z"
    }
   },
   "outputs": [],
   "source": [
    "import pandas as pd\n",
    "from sklearn.model_selection import train_test_split\n",
    "from sklearn.metrics import accuracy_score\n",
    "from sklearn.metrics import f1_score\n",
    "# 假设您已经导入了所有的 Pipeline 和预处理器\n",
    "# from sklearn.preprocessing import StandardScaler\n",
    "# from sklearn.decomposition import PCA\n",
    "# from sklearn.discriminant_analysis import LinearDiscriminantAnalysis\n",
    "# import umap\n",
    "# from sklearn.pipeline import Pipeline\n",
    "# from sklearn.neighbors import KNeighborsClassifier\n",
    "\n",
    "def run_evaluation():\n",
    "    \"\"\"\n",
    "    根据给定的随机种子 i (random_state) 运行一次评估。\n",
    "\n",
    "    参数:\n",
    "        i (int): 随机种子，用于 train_test_split。\n",
    "        X, y: 原始数据和标签。\n",
    "        pipeline_*: 预定义的 Pipeline 对象。\n",
    "\n",
    "    返回:\n",
    "        dict: 包含所有准确率和泛化差距的结果字典。\n",
    "    \"\"\"\n",
    "\n",
    "    # 1. 使用随机种子 i 进行数据划分 (训练集和验证集)\n",
    "    # 注意：这里我们使用验证集 (X_val, y_val) 而非测试集，这是模型选择阶段的标准做法。\n",
    "    X_train, X_val, y_train, y_val = train_test_split(\n",
    "        X, y, test_size=0.3, random_state=i # i 作为随机种子\n",
    "    )\n",
    "\n",
    "    # 2. 重新拟合所有 Pipeline\n",
    "    # 必须在每次循环中重新拟合，以确保它们只学习当前循环的 X_train。\n",
    "    # 如果您的 Pipeline 内部已经包含了预处理步骤 (如 StandardScaler)，\n",
    "    # 那么您只需要在 X_train 上 fit 即可。\n",
    "\n",
    "    pipeline_std.fit(X_train, y_train)\n",
    "    pipeline_std_Only_petal.fit(X_train[:, 2:4], y_train)\n",
    "    pipeline_pca.fit(X_train, y_train)\n",
    "    pipeline_lda.fit(X_train, y_train)\n",
    "    pipeline_umap.fit(X_train, y_train)\n",
    "\n",
    "    # 3. 计算预测结果\n",
    "    result_std = pipeline_std.predict(X_val)\n",
    "    result_std_Only_petal = pipeline_std_Only_petal.predict(X_val[:, 2:4])\n",
    "    result_pca = pipeline_pca.predict(X_val)\n",
    "    result_lda = pipeline_lda.predict(X_val)\n",
    "    result_umap = pipeline_umap.predict(X_val)\n",
    "\n",
    "    # 4. 初始化结果存储字典\n",
    "    results = {}\n",
    "\n",
    "    # 5. 计算准确率 (Validation Accuracy)\n",
    "    results['KNN_std_准确率'] = accuracy_score(y_val, result_std)\n",
    "    results['KNN_std_Only_petal_准确率'] = accuracy_score(y_val, result_std_Only_petal)\n",
    "    results['KNN_PCA_准确率'] = accuracy_score(y_val, result_pca)\n",
    "    results['KNN_LDA_准确率'] = accuracy_score(y_val, result_lda)\n",
    "    results['KNN_umap_准确率'] = accuracy_score(y_val, result_umap)\n",
    "\n",
    "    # 6. 计算泛化差距 (Generalization Gap: Train Score - Validation Score)\n",
    "    # 注意：score 方法在 sklearn 中默认为准确率\n",
    "    results['KNN_std_泛化差距'] = pipeline_std.score(X_train, y_train) - pipeline_std.score(X_val, y_val)\n",
    "    results['KNN_std_Only_petal_泛化差距'] = pipeline_std_Only_petal.score(X_train[:, 2:4], y_train) - pipeline_std_Only_petal.score(X_val[:, 2:4], y_val)\n",
    "    results['KNN_PCA_泛化差距'] = pipeline_pca.score(X_train, y_train) - pipeline_pca.score(X_val, y_val)\n",
    "    results['KNN_LDA_泛化差距'] = pipeline_lda.score(X_train, y_train) - pipeline_lda.score(X_val, y_val)\n",
    "    results['KNN_umap_泛化差距'] = pipeline_umap.score(X_train, y_train) - pipeline_umap.score(X_val, y_val)\n",
    "\n",
    "\n",
    "    # 7. 计算F1分数并更新结果字典\n",
    "    results['KNN_std_F1_Score'] = f1_score(y_val, result_std, average='weighted')\n",
    "    results['KNN_std_Only_petal_F1_Score'] = f1_score(y_val, result_std_Only_petal, average='weighted')\n",
    "    results['KNN_PCA_F1_Score'] = f1_score(y_val, result_pca, average='weighted')\n",
    "    results['KNN_LDA_F1_Score'] = f1_score(y_val, result_lda, average='weighted')\n",
    "    results['KNN_umap_F1_Score'] = f1_score(y_val, result_umap, average='weighted')\n",
    "\n",
    "    # 返回包含所有结果的字典\n",
    "    return results"
   ]
  },
  {
   "cell_type": "markdown",
   "id": "d0449ddccd120ed0",
   "metadata": {},
   "source": [
    "## 用于迭代和绘图的公共部分"
   ]
  },
  {
   "cell_type": "code",
   "execution_count": 13,
   "id": "fc196982764a3859",
   "metadata": {
    "ExecuteTime": {
     "end_time": "2025-10-12T22:41:40.259788Z",
     "start_time": "2025-10-12T22:41:33.849312Z"
    }
   },
   "outputs": [
    {
     "name": "stdout",
     "output_type": "stream",
     "text": [
      "数据转换完成。前 5 行数据:\n",
      "   KNN_std_准确率  KNN_std_Only_petal_准确率  KNN_PCA_准确率  KNN_LDA_准确率  \\\n",
      "0     0.955556                0.977778     0.911111     0.955556   \n",
      "1     0.933333                0.977778     0.844444     0.933333   \n",
      "2     1.000000                0.977778     0.911111     0.955556   \n",
      "3     0.977778                0.955556     0.888889     0.977778   \n",
      "4     0.955556                0.955556     0.933333     0.955556   \n",
      "\n",
      "   KNN_umap_准确率  KNN_std_泛化差距  KNN_std_Only_petal_泛化差距  KNN_PCA_泛化差距  \\\n",
      "0      0.977778      0.025397                -0.006349      0.031746   \n",
      "1      0.955556      0.038095                -0.006349      0.098413   \n",
      "2      0.977778     -0.038095                 0.003175      0.003175   \n",
      "3      0.955556     -0.006349                 0.006349      0.063492   \n",
      "4      0.933333      0.015873                -0.003175     -0.028571   \n",
      "\n",
      "   KNN_LDA_泛化差距  KNN_umap_泛化差距  KNN_std_F1_Score  KNN_std_Only_petal_F1_Score  \\\n",
      "0      0.006349       0.022222          0.955556                     0.977549   \n",
      "1      0.047619       0.044444          0.931550                     0.977634   \n",
      "2      0.015873       0.022222          1.000000                     0.977692   \n",
      "3     -0.006349       0.044444          0.977749                     0.955328   \n",
      "4      0.034921       0.066667          0.955556                     0.955866   \n",
      "\n",
      "   KNN_PCA_F1_Score  KNN_LDA_F1_Score  KNN_umap_F1_Score  Iteration  \n",
      "0          0.912200          0.955556           0.977943          0  \n",
      "1          0.845103          0.932901           0.955556          1  \n",
      "2          0.911111          0.955093           0.977806          2  \n",
      "3          0.888747          0.977749           0.955556          3  \n",
      "4          0.933686          0.955556           0.934212          4  \n"
     ]
    }
   ],
   "source": [
    "all_results = []\n",
    "# --- 设置参数 ---\n",
    "NUM_ITERATIONS = 50\n",
    "for i in range(NUM_ITERATIONS):\n",
    "    result_dict = run_evaluation()\n",
    "    result_dict['Iteration'] = i # 添加迭代次数作为索引\n",
    "    all_results.append(result_dict)\n",
    "\n",
    "\n",
    "df_results = pd.DataFrame(all_results)\n",
    "print(\"数据转换完成。前 5 行数据:\")\n",
    "print(df_results.head())\n",
    "\n",
    "accuracy_cols = [col for col in df_results.columns if '准确率' in col]\n",
    "gap_cols = [col for col in df_results.columns if '泛化差距' in col]\n",
    "f1_cols = [col for col in df_results.columns if 'F1_Score' in col]\n"
   ]
  },
  {
   "cell_type": "markdown",
   "id": "fab69c810841fd28",
   "metadata": {},
   "source": [
    "### 利用plotly绘制可交互的 动态图"
   ]
  },
  {
   "cell_type": "code",
   "execution_count": 14,
   "id": "d4ba543b18452077",
   "metadata": {
    "ExecuteTime": {
     "end_time": "2025-10-12T22:43:19.267499Z",
     "start_time": "2025-10-12T22:43:19.094238Z"
    }
   },
   "outputs": [
    {
     "name": "stdout",
     "output_type": "stream",
     "text": [
      "显示准确率图表 (Plotly)\n"
     ]
    },
    {
     "data": {
      "application/vnd.plotly.v1+json": {
       "config": {
        "plotlyServerURL": "https://plot.ly"
       },
       "data": [
        {
         "hovertemplate": "模型=KNN_std_准确率<br>随机数/迭代次数=%{x}<br>准确率 (Validation Accuracy)=%{y}<extra></extra>",
         "legendgroup": "KNN_std_准确率",
         "line": {
          "color": "#636efa",
          "dash": "solid"
         },
         "marker": {
          "symbol": "circle"
         },
         "mode": "lines+markers",
         "name": "KNN_std_准确率",
         "orientation": "v",
         "showlegend": true,
         "type": "scatter",
         "x": {
          "bdata": "AAECAwQFBgcICQoLDA0ODxAREhMUFRYXGBkaGxwdHh8gISIjJCUmJygpKissLS4vMDE=",
          "dtype": "i1"
         },
         "xaxis": "x",
         "y": {
          "bdata": "P+mTPumT7j/e3d3d3d3tPwAAAAAAAPA/n/RJn/RJ7z8/6ZM+6ZPuP97d3d3d3e0/fdInfdIn7T990id90iftP97d3d3d3e0/AAAAAAAA8D+f9Emf9EnvP97d3d3d3e0/n/RJn/RJ7z990id90iftP97d3d3d3e0/3t3d3d3d7T/e3d3d3d3tPz/pkz7pk+4/AAAAAAAA8D990id90iftP33SJ33SJ+0/HMdxHMdx7D8/6ZM+6ZPuP5/0SZ/0Se8/P+mTPumT7j/e3d3d3d3tP97d3d3d3e0/HMdxHMdx7D/e3d3d3d3tPxzHcRzHcew/fdInfdIn7T+f9Emf9EnvPz/pkz7pk+4/fdInfdIn7T990id90iftP33SJ33SJ+0/n/RJn/RJ7z8/6ZM+6ZPuPz/pkz7pk+4/P+mTPumT7j+f9Emf9EnvPxzHcRzHcew/n/RJn/RJ7z+f9Emf9EnvPxzHcRzHcew/fdInfdIn7T8cx3Ecx3HsPz/pkz7pk+4/HMdxHMdx7D/e3d3d3d3tPw==",
          "dtype": "f8"
         },
         "yaxis": "y"
        },
        {
         "hovertemplate": "模型=KNN_std_Only_petal_准确率<br>随机数/迭代次数=%{x}<br>准确率 (Validation Accuracy)=%{y}<extra></extra>",
         "legendgroup": "KNN_std_Only_petal_准确率",
         "line": {
          "color": "#EF553B",
          "dash": "solid"
         },
         "marker": {
          "symbol": "circle"
         },
         "mode": "lines+markers",
         "name": "KNN_std_Only_petal_准确率",
         "orientation": "v",
         "showlegend": true,
         "type": "scatter",
         "x": {
          "bdata": "AAECAwQFBgcICQoLDA0ODxAREhMUFRYXGBkaGxwdHh8gISIjJCUmJygpKissLS4vMDE=",
          "dtype": "i1"
         },
         "xaxis": "x",
         "y": {
          "bdata": "n/RJn/RJ7z+f9Emf9EnvP5/0SZ/0Se8/P+mTPumT7j8/6ZM+6ZPuPz/pkz7pk+4/HMdxHMdx7D/e3d3d3d3tP33SJ33SJ+0/n/RJn/RJ7z+f9Emf9EnvP97d3d3d3e0/n/RJn/RJ7z990id90iftPz/pkz7pk+4/P+mTPumT7j/e3d3d3d3tP97d3d3d3e0/AAAAAAAA8D/e3d3d3d3tP33SJ33SJ+0/P+mTPumT7j/e3d3d3d3tPz/pkz7pk+4/n/RJn/RJ7z8/6ZM+6ZPuP5/0SZ/0Se8/3t3d3d3d7T+f9Emf9EnvP97d3d3d3e0/P+mTPumT7j8/6ZM+6ZPuP5/0SZ/0Se8/3t3d3d3d7T8/6ZM+6ZPuP97d3d3d3e0/AAAAAAAA8D+f9Emf9EnvP5/0SZ/0Se8/n/RJn/RJ7z/e3d3d3d3tP97d3d3d3e0/n/RJn/RJ7z8/6ZM+6ZPuP5/0SZ/0Se8/3t3d3d3d7T990id90iftPz/pkz7pk+4/n/RJn/RJ7z990id90iftPw==",
          "dtype": "f8"
         },
         "yaxis": "y"
        },
        {
         "hovertemplate": "模型=KNN_PCA_准确率<br>随机数/迭代次数=%{x}<br>准确率 (Validation Accuracy)=%{y}<extra></extra>",
         "legendgroup": "KNN_PCA_准确率",
         "line": {
          "color": "#00cc96",
          "dash": "solid"
         },
         "marker": {
          "symbol": "circle"
         },
         "mode": "lines+markers",
         "name": "KNN_PCA_准确率",
         "orientation": "v",
         "showlegend": true,
         "type": "scatter",
         "x": {
          "bdata": "AAECAwQFBgcICQoLDA0ODxAREhMUFRYXGBkaGxwdHh8gISIjJCUmJygpKissLS4vMDE=",
          "dtype": "i1"
         },
         "xaxis": "x",
         "y": {
          "bdata": "fdInfdIn7T9bsAVbsAXrP33SJ33SJ+0/HMdxHMdx7D/e3d3d3d3tPxzHcRzHcew/vLu7u7u76z+8u7u7u7vrP1uwBVuwBes/3t3d3d3d7T/e3d3d3d3tP1uwBVuwBes/vLu7u7u76z85juM4juPoP7y7u7u7u+s/vLu7u7u76z/e3d3d3d3tP1uwBVuwBes/P+mTPumT7j+amZmZmZnpP7y7u7u7u+s/+qRP+qRP6j+8u7u7u7vrP33SJ33SJ+0/W7AFW7AF6z8cx3Ecx3HsP/qkT/qkT+o/HMdxHMdx7D/6pE/6pE/qP5qZmZmZmek/W7AFW7AF6z990id90iftP7y7u7u7u+s/mpmZmZmZ6T+8u7u7u7vrPxzHcRzHcew/3t3d3d3d7T+8u7u7u7vrP1uwBVuwBes/HMdxHMdx7D990id90iftP1uwBVuwBes/3t3d3d3d7T+8u7u7u7vrPxzHcRzHcew/vLu7u7u76z/6pE/6pE/qP7y7u7u7u+s/2IIt2IIt6D9bsAVbsAXrPw==",
          "dtype": "f8"
         },
         "yaxis": "y"
        },
        {
         "hovertemplate": "模型=KNN_LDA_准确率<br>随机数/迭代次数=%{x}<br>准确率 (Validation Accuracy)=%{y}<extra></extra>",
         "legendgroup": "KNN_LDA_准确率",
         "line": {
          "color": "#ab63fa",
          "dash": "solid"
         },
         "marker": {
          "symbol": "circle"
         },
         "mode": "lines+markers",
         "name": "KNN_LDA_准确率",
         "orientation": "v",
         "showlegend": true,
         "type": "scatter",
         "x": {
          "bdata": "AAECAwQFBgcICQoLDA0ODxAREhMUFRYXGBkaGxwdHh8gISIjJCUmJygpKissLS4vMDE=",
          "dtype": "i1"
         },
         "xaxis": "x",
         "y": {
          "bdata": "P+mTPumT7j/e3d3d3d3tPz/pkz7pk+4/n/RJn/RJ7z8/6ZM+6ZPuPz/pkz7pk+4/3t3d3d3d7T8cx3Ecx3HsP97d3d3d3e0/AAAAAAAA8D8/6ZM+6ZPuPxzHcRzHcew/AAAAAAAA8D/e3d3d3d3tPz/pkz7pk+4/P+mTPumT7j990id90iftP33SJ33SJ+0/n/RJn/RJ7z/e3d3d3d3tPxzHcRzHcew/P+mTPumT7j/e3d3d3d3tP5/0SZ/0Se8/P+mTPumT7j8/6ZM+6ZPuP5/0SZ/0Se8/HMdxHMdx7D8/6ZM+6ZPuPz/pkz7pk+4/3t3d3d3d7T8/6ZM+6ZPuPz/pkz7pk+4/3t3d3d3d7T8/6ZM+6ZPuP33SJ33SJ+0/n/RJn/RJ7z8AAAAAAADwP5/0SZ/0Se8/n/RJn/RJ7z8/6ZM+6ZPuP33SJ33SJ+0/n/RJn/RJ7z8/6ZM+6ZPuPz/pkz7pk+4/3t3d3d3d7T8cx3Ecx3HsPz/pkz7pk+4/3t3d3d3d7T8/6ZM+6ZPuPw==",
          "dtype": "f8"
         },
         "yaxis": "y"
        },
        {
         "hovertemplate": "模型=KNN_umap_准确率<br>随机数/迭代次数=%{x}<br>准确率 (Validation Accuracy)=%{y}<extra></extra>",
         "legendgroup": "KNN_umap_准确率",
         "line": {
          "color": "#FFA15A",
          "dash": "solid"
         },
         "marker": {
          "symbol": "circle"
         },
         "mode": "lines+markers",
         "name": "KNN_umap_准确率",
         "orientation": "v",
         "showlegend": true,
         "type": "scatter",
         "x": {
          "bdata": "AAECAwQFBgcICQoLDA0ODxAREhMUFRYXGBkaGxwdHh8gISIjJCUmJygpKissLS4vMDE=",
          "dtype": "i1"
         },
         "xaxis": "x",
         "y": {
          "bdata": "n/RJn/RJ7z8/6ZM+6ZPuP5/0SZ/0Se8/P+mTPumT7j/e3d3d3d3tPz/pkz7pk+4/fdInfdIn7T/e3d3d3d3tPz/pkz7pk+4/AAAAAAAA8D+f9Emf9EnvPxzHcRzHcew/n/RJn/RJ7z8/6ZM+6ZPuPz/pkz7pk+4/n/RJn/RJ7z/e3d3d3d3tPz/pkz7pk+4/AAAAAAAA8D/e3d3d3d3tP33SJ33SJ+0/fdInfdIn7T/e3d3d3d3tP5/0SZ/0Se8/n/RJn/RJ7z8/6ZM+6ZPuPz/pkz7pk+4/3t3d3d3d7T8/6ZM+6ZPuP97d3d3d3e0/P+mTPumT7j8/6ZM+6ZPuP5/0SZ/0Se8/3t3d3d3d7T/e3d3d3d3tP33SJ33SJ+0/n/RJn/RJ7z+f9Emf9EnvPz/pkz7pk+4/n/RJn/RJ7z+f9Emf9EnvPxzHcRzHcew/AAAAAAAA8D8/6ZM+6ZPuPz/pkz7pk+4/P+mTPumT7j8cx3Ecx3HsP5/0SZ/0Se8/fdInfdIn7T/e3d3d3d3tPw==",
          "dtype": "f8"
         },
         "yaxis": "y"
        }
       ],
       "layout": {
        "legend": {
         "title": {
          "text": "模型"
         },
         "tracegroupgap": 0
        },
        "template": {
         "data": {
          "bar": [
           {
            "error_x": {
             "color": "#f2f5fa"
            },
            "error_y": {
             "color": "#f2f5fa"
            },
            "marker": {
             "line": {
              "color": "rgb(17,17,17)",
              "width": 0.5
             },
             "pattern": {
              "fillmode": "overlay",
              "size": 10,
              "solidity": 0.2
             }
            },
            "type": "bar"
           }
          ],
          "barpolar": [
           {
            "marker": {
             "line": {
              "color": "rgb(17,17,17)",
              "width": 0.5
             },
             "pattern": {
              "fillmode": "overlay",
              "size": 10,
              "solidity": 0.2
             }
            },
            "type": "barpolar"
           }
          ],
          "carpet": [
           {
            "aaxis": {
             "endlinecolor": "#A2B1C6",
             "gridcolor": "#506784",
             "linecolor": "#506784",
             "minorgridcolor": "#506784",
             "startlinecolor": "#A2B1C6"
            },
            "baxis": {
             "endlinecolor": "#A2B1C6",
             "gridcolor": "#506784",
             "linecolor": "#506784",
             "minorgridcolor": "#506784",
             "startlinecolor": "#A2B1C6"
            },
            "type": "carpet"
           }
          ],
          "choropleth": [
           {
            "colorbar": {
             "outlinewidth": 0,
             "ticks": ""
            },
            "type": "choropleth"
           }
          ],
          "contour": [
           {
            "colorbar": {
             "outlinewidth": 0,
             "ticks": ""
            },
            "colorscale": [
             [
              0,
              "#0d0887"
             ],
             [
              0.1111111111111111,
              "#46039f"
             ],
             [
              0.2222222222222222,
              "#7201a8"
             ],
             [
              0.3333333333333333,
              "#9c179e"
             ],
             [
              0.4444444444444444,
              "#bd3786"
             ],
             [
              0.5555555555555556,
              "#d8576b"
             ],
             [
              0.6666666666666666,
              "#ed7953"
             ],
             [
              0.7777777777777778,
              "#fb9f3a"
             ],
             [
              0.8888888888888888,
              "#fdca26"
             ],
             [
              1,
              "#f0f921"
             ]
            ],
            "type": "contour"
           }
          ],
          "contourcarpet": [
           {
            "colorbar": {
             "outlinewidth": 0,
             "ticks": ""
            },
            "type": "contourcarpet"
           }
          ],
          "heatmap": [
           {
            "colorbar": {
             "outlinewidth": 0,
             "ticks": ""
            },
            "colorscale": [
             [
              0,
              "#0d0887"
             ],
             [
              0.1111111111111111,
              "#46039f"
             ],
             [
              0.2222222222222222,
              "#7201a8"
             ],
             [
              0.3333333333333333,
              "#9c179e"
             ],
             [
              0.4444444444444444,
              "#bd3786"
             ],
             [
              0.5555555555555556,
              "#d8576b"
             ],
             [
              0.6666666666666666,
              "#ed7953"
             ],
             [
              0.7777777777777778,
              "#fb9f3a"
             ],
             [
              0.8888888888888888,
              "#fdca26"
             ],
             [
              1,
              "#f0f921"
             ]
            ],
            "type": "heatmap"
           }
          ],
          "histogram": [
           {
            "marker": {
             "pattern": {
              "fillmode": "overlay",
              "size": 10,
              "solidity": 0.2
             }
            },
            "type": "histogram"
           }
          ],
          "histogram2d": [
           {
            "colorbar": {
             "outlinewidth": 0,
             "ticks": ""
            },
            "colorscale": [
             [
              0,
              "#0d0887"
             ],
             [
              0.1111111111111111,
              "#46039f"
             ],
             [
              0.2222222222222222,
              "#7201a8"
             ],
             [
              0.3333333333333333,
              "#9c179e"
             ],
             [
              0.4444444444444444,
              "#bd3786"
             ],
             [
              0.5555555555555556,
              "#d8576b"
             ],
             [
              0.6666666666666666,
              "#ed7953"
             ],
             [
              0.7777777777777778,
              "#fb9f3a"
             ],
             [
              0.8888888888888888,
              "#fdca26"
             ],
             [
              1,
              "#f0f921"
             ]
            ],
            "type": "histogram2d"
           }
          ],
          "histogram2dcontour": [
           {
            "colorbar": {
             "outlinewidth": 0,
             "ticks": ""
            },
            "colorscale": [
             [
              0,
              "#0d0887"
             ],
             [
              0.1111111111111111,
              "#46039f"
             ],
             [
              0.2222222222222222,
              "#7201a8"
             ],
             [
              0.3333333333333333,
              "#9c179e"
             ],
             [
              0.4444444444444444,
              "#bd3786"
             ],
             [
              0.5555555555555556,
              "#d8576b"
             ],
             [
              0.6666666666666666,
              "#ed7953"
             ],
             [
              0.7777777777777778,
              "#fb9f3a"
             ],
             [
              0.8888888888888888,
              "#fdca26"
             ],
             [
              1,
              "#f0f921"
             ]
            ],
            "type": "histogram2dcontour"
           }
          ],
          "mesh3d": [
           {
            "colorbar": {
             "outlinewidth": 0,
             "ticks": ""
            },
            "type": "mesh3d"
           }
          ],
          "parcoords": [
           {
            "line": {
             "colorbar": {
              "outlinewidth": 0,
              "ticks": ""
             }
            },
            "type": "parcoords"
           }
          ],
          "pie": [
           {
            "automargin": true,
            "type": "pie"
           }
          ],
          "scatter": [
           {
            "marker": {
             "line": {
              "color": "#283442"
             }
            },
            "type": "scatter"
           }
          ],
          "scatter3d": [
           {
            "line": {
             "colorbar": {
              "outlinewidth": 0,
              "ticks": ""
             }
            },
            "marker": {
             "colorbar": {
              "outlinewidth": 0,
              "ticks": ""
             }
            },
            "type": "scatter3d"
           }
          ],
          "scattercarpet": [
           {
            "marker": {
             "colorbar": {
              "outlinewidth": 0,
              "ticks": ""
             }
            },
            "type": "scattercarpet"
           }
          ],
          "scattergeo": [
           {
            "marker": {
             "colorbar": {
              "outlinewidth": 0,
              "ticks": ""
             }
            },
            "type": "scattergeo"
           }
          ],
          "scattergl": [
           {
            "marker": {
             "line": {
              "color": "#283442"
             }
            },
            "type": "scattergl"
           }
          ],
          "scattermap": [
           {
            "marker": {
             "colorbar": {
              "outlinewidth": 0,
              "ticks": ""
             }
            },
            "type": "scattermap"
           }
          ],
          "scattermapbox": [
           {
            "marker": {
             "colorbar": {
              "outlinewidth": 0,
              "ticks": ""
             }
            },
            "type": "scattermapbox"
           }
          ],
          "scatterpolar": [
           {
            "marker": {
             "colorbar": {
              "outlinewidth": 0,
              "ticks": ""
             }
            },
            "type": "scatterpolar"
           }
          ],
          "scatterpolargl": [
           {
            "marker": {
             "colorbar": {
              "outlinewidth": 0,
              "ticks": ""
             }
            },
            "type": "scatterpolargl"
           }
          ],
          "scatterternary": [
           {
            "marker": {
             "colorbar": {
              "outlinewidth": 0,
              "ticks": ""
             }
            },
            "type": "scatterternary"
           }
          ],
          "surface": [
           {
            "colorbar": {
             "outlinewidth": 0,
             "ticks": ""
            },
            "colorscale": [
             [
              0,
              "#0d0887"
             ],
             [
              0.1111111111111111,
              "#46039f"
             ],
             [
              0.2222222222222222,
              "#7201a8"
             ],
             [
              0.3333333333333333,
              "#9c179e"
             ],
             [
              0.4444444444444444,
              "#bd3786"
             ],
             [
              0.5555555555555556,
              "#d8576b"
             ],
             [
              0.6666666666666666,
              "#ed7953"
             ],
             [
              0.7777777777777778,
              "#fb9f3a"
             ],
             [
              0.8888888888888888,
              "#fdca26"
             ],
             [
              1,
              "#f0f921"
             ]
            ],
            "type": "surface"
           }
          ],
          "table": [
           {
            "cells": {
             "fill": {
              "color": "#506784"
             },
             "line": {
              "color": "rgb(17,17,17)"
             }
            },
            "header": {
             "fill": {
              "color": "#2a3f5f"
             },
             "line": {
              "color": "rgb(17,17,17)"
             }
            },
            "type": "table"
           }
          ]
         },
         "layout": {
          "annotationdefaults": {
           "arrowcolor": "#f2f5fa",
           "arrowhead": 0,
           "arrowwidth": 1
          },
          "autotypenumbers": "strict",
          "coloraxis": {
           "colorbar": {
            "outlinewidth": 0,
            "ticks": ""
           }
          },
          "colorscale": {
           "diverging": [
            [
             0,
             "#8e0152"
            ],
            [
             0.1,
             "#c51b7d"
            ],
            [
             0.2,
             "#de77ae"
            ],
            [
             0.3,
             "#f1b6da"
            ],
            [
             0.4,
             "#fde0ef"
            ],
            [
             0.5,
             "#f7f7f7"
            ],
            [
             0.6,
             "#e6f5d0"
            ],
            [
             0.7,
             "#b8e186"
            ],
            [
             0.8,
             "#7fbc41"
            ],
            [
             0.9,
             "#4d9221"
            ],
            [
             1,
             "#276419"
            ]
           ],
           "sequential": [
            [
             0,
             "#0d0887"
            ],
            [
             0.1111111111111111,
             "#46039f"
            ],
            [
             0.2222222222222222,
             "#7201a8"
            ],
            [
             0.3333333333333333,
             "#9c179e"
            ],
            [
             0.4444444444444444,
             "#bd3786"
            ],
            [
             0.5555555555555556,
             "#d8576b"
            ],
            [
             0.6666666666666666,
             "#ed7953"
            ],
            [
             0.7777777777777778,
             "#fb9f3a"
            ],
            [
             0.8888888888888888,
             "#fdca26"
            ],
            [
             1,
             "#f0f921"
            ]
           ],
           "sequentialminus": [
            [
             0,
             "#0d0887"
            ],
            [
             0.1111111111111111,
             "#46039f"
            ],
            [
             0.2222222222222222,
             "#7201a8"
            ],
            [
             0.3333333333333333,
             "#9c179e"
            ],
            [
             0.4444444444444444,
             "#bd3786"
            ],
            [
             0.5555555555555556,
             "#d8576b"
            ],
            [
             0.6666666666666666,
             "#ed7953"
            ],
            [
             0.7777777777777778,
             "#fb9f3a"
            ],
            [
             0.8888888888888888,
             "#fdca26"
            ],
            [
             1,
             "#f0f921"
            ]
           ]
          },
          "colorway": [
           "#636efa",
           "#EF553B",
           "#00cc96",
           "#ab63fa",
           "#FFA15A",
           "#19d3f3",
           "#FF6692",
           "#B6E880",
           "#FF97FF",
           "#FECB52"
          ],
          "font": {
           "color": "#f2f5fa"
          },
          "geo": {
           "bgcolor": "rgb(17,17,17)",
           "lakecolor": "rgb(17,17,17)",
           "landcolor": "rgb(17,17,17)",
           "showlakes": true,
           "showland": true,
           "subunitcolor": "#506784"
          },
          "hoverlabel": {
           "align": "left"
          },
          "hovermode": "closest",
          "mapbox": {
           "style": "dark"
          },
          "paper_bgcolor": "rgb(17,17,17)",
          "plot_bgcolor": "rgb(17,17,17)",
          "polar": {
           "angularaxis": {
            "gridcolor": "#506784",
            "linecolor": "#506784",
            "ticks": ""
           },
           "bgcolor": "rgb(17,17,17)",
           "radialaxis": {
            "gridcolor": "#506784",
            "linecolor": "#506784",
            "ticks": ""
           }
          },
          "scene": {
           "xaxis": {
            "backgroundcolor": "rgb(17,17,17)",
            "gridcolor": "#506784",
            "gridwidth": 2,
            "linecolor": "#506784",
            "showbackground": true,
            "ticks": "",
            "zerolinecolor": "#C8D4E3"
           },
           "yaxis": {
            "backgroundcolor": "rgb(17,17,17)",
            "gridcolor": "#506784",
            "gridwidth": 2,
            "linecolor": "#506784",
            "showbackground": true,
            "ticks": "",
            "zerolinecolor": "#C8D4E3"
           },
           "zaxis": {
            "backgroundcolor": "rgb(17,17,17)",
            "gridcolor": "#506784",
            "gridwidth": 2,
            "linecolor": "#506784",
            "showbackground": true,
            "ticks": "",
            "zerolinecolor": "#C8D4E3"
           }
          },
          "shapedefaults": {
           "line": {
            "color": "#f2f5fa"
           }
          },
          "sliderdefaults": {
           "bgcolor": "#C8D4E3",
           "bordercolor": "rgb(17,17,17)",
           "borderwidth": 1,
           "tickwidth": 0
          },
          "ternary": {
           "aaxis": {
            "gridcolor": "#506784",
            "linecolor": "#506784",
            "ticks": ""
           },
           "baxis": {
            "gridcolor": "#506784",
            "linecolor": "#506784",
            "ticks": ""
           },
           "bgcolor": "rgb(17,17,17)",
           "caxis": {
            "gridcolor": "#506784",
            "linecolor": "#506784",
            "ticks": ""
           }
          },
          "title": {
           "x": 0.05
          },
          "updatemenudefaults": {
           "bgcolor": "#506784",
           "borderwidth": 0
          },
          "xaxis": {
           "automargin": true,
           "gridcolor": "#283442",
           "linecolor": "#506784",
           "ticks": "",
           "title": {
            "standoff": 15
           },
           "zerolinecolor": "#283442",
           "zerolinewidth": 2
          },
          "yaxis": {
           "automargin": true,
           "gridcolor": "#283442",
           "linecolor": "#506784",
           "ticks": "",
           "title": {
            "standoff": 15
           },
           "zerolinecolor": "#283442",
           "zerolinewidth": 2
          }
         }
        },
        "title": {
         "text": "不同模型在50次循环中的验证准确率变化"
        },
        "xaxis": {
         "anchor": "y",
         "domain": [
          0,
          1
         ],
         "title": {
          "text": "随机数/迭代次数"
         }
        },
        "yaxis": {
         "anchor": "x",
         "domain": [
          0,
          1
         ],
         "title": {
          "text": "准确率 (Validation Accuracy)"
         }
        }
       }
      }
     },
     "metadata": {},
     "output_type": "display_data"
    },
    {
     "name": "stdout",
     "output_type": "stream",
     "text": [
      "显示泛化差距图表 (Plotly)\n"
     ]
    },
    {
     "data": {
      "application/vnd.plotly.v1+json": {
       "config": {
        "plotlyServerURL": "https://plot.ly"
       },
       "data": [
        {
         "hovertemplate": "模型=KNN_std_泛化差距<br>随机数/迭代次数=%{x}<br>泛化差距=%{y}<extra></extra>",
         "legendgroup": "KNN_std_泛化差距",
         "line": {
          "color": "#636efa",
          "dash": "solid"
         },
         "marker": {
          "symbol": "circle"
         },
         "mode": "lines+markers",
         "name": "KNN_std_泛化差距",
         "orientation": "v",
         "showlegend": true,
         "type": "scatter",
         "x": {
          "bdata": "AAECAwQFBgcICQoLDA0ODxAREhMUFRYXGBkaGxwdHh8gISIjJCUmJygpKissLS4vMDE=",
          "dtype": "i1"
         },
         "xaxis": "x",
         "y": {
          "bdata": "AKABGqABmj8QOIETOIGjPxA4gRM4gaO/AKABGqABer8ABEEQBEGQPxCGYRiGYag/EB7hER7hsT8QHuERHuGxPyDUQR3UQa0/IIZhGIZhqL8goAEaoAGavxCGYRiGYag/AARBEARBkL8g7uEe7uGuPxCGYRiGYag/ADiBEziBkz8g1EEd1EGtPwCgARqgAXo/EDiBEziBo78QHuERHuGxPxhswRZswbY/GCuxEiuxsj8ABEEQBEGQPwCgARqgAXq/AARBEARBkD8g1EEd1EGdPxA4gRM4gaM/GFIhFVIhtT8g1EEd1EGdPxgrsRIrsbI/IKABGqABqj8AoAEaoAF6vwAEQRAEQZA/IO7hHu7hrj8goAEaoAGqPxhFURRFUbQ/IKABGqABmr8AoAEaoAF6PwCgARqgAZo/AKABGqABmj8ABEEQBEGQvyCgARqgAbo/AARBEARBkL8AoAEaoAF6vxhSIRVSIbU/IO7hHu7hrj8YeZEXeZG3PwCgARqgAXo/GCuxEiuxsj8QOIETOIGjPw==",
          "dtype": "f8"
         },
         "yaxis": "y"
        },
        {
         "hovertemplate": "模型=KNN_std_Only_petal_泛化差距<br>随机数/迭代次数=%{x}<br>泛化差距=%{y}<extra></extra>",
         "legendgroup": "KNN_std_Only_petal_泛化差距",
         "line": {
          "color": "#EF553B",
          "dash": "solid"
         },
         "marker": {
          "symbol": "circle"
         },
         "mode": "lines+markers",
         "name": "KNN_std_Only_petal_泛化差距",
         "orientation": "v",
         "showlegend": true,
         "type": "scatter",
         "x": {
          "bdata": "AAECAwQFBgcICQoLDA0ODxAREhMUFRYXGBkaGxwdHh8gISIjJCUmJygpKissLS4vMDE=",
          "dtype": "i1"
         },
         "xaxis": "x",
         "y": {
          "bdata": "AKABGqABer8AoAEaoAF6vwCgARqgAWo/AKABGqABej8AoQEaoAFqvwCgARqgAZo/GFIhFVIhtT8g1EEd1EGtPxhFURRFUbQ/AKABGqABaj8AoAEaoAF6vxCGYRiGYag/AKABGqABaj8g7uEe7uGuPwAEQRAEQZA/AKABGqABej8QOIETOIGjPyDUQR3UQZ0/EDiBEziBo78QhmEYhmGoPxAe4REe4bE/AKABGqABmj8QhmEYhmGoPwAEQRAEQZA/AKABGqABer8AoAEaoAGaPwCgARqgAXq/INRBHdRBrT9AoAEaoAGKPyDUQR3UQa0/AKABGqABmj8AoAEaoAF6PwCgARqgAWo/EIZhGIZhqD8AoAEaoAGaPyDUQR3UQa0/EDiBEziBo78AoAEaoAFqPwCgARqgAWo/QKABGqABij8QhmEYhmGoPxAREREREbE/IKABGqABmr8QHuERHuGhPwCgARqgAWo/ADiBEziBkz8YbMEWbMG2PwAEQRAEQZA/AKABGqABaj8g7uEe7uGuPw==",
          "dtype": "f8"
         },
         "yaxis": "y"
        },
        {
         "hovertemplate": "模型=KNN_PCA_泛化差距<br>随机数/迭代次数=%{x}<br>泛化差距=%{y}<extra></extra>",
         "legendgroup": "KNN_PCA_泛化差距",
         "line": {
          "color": "#00cc96",
          "dash": "solid"
         },
         "marker": {
          "symbol": "circle"
         },
         "mode": "lines+markers",
         "name": "KNN_PCA_泛化差距",
         "orientation": "v",
         "showlegend": true,
         "type": "scatter",
         "x": {
          "bdata": "AAECAwQFBgcICQoLDA0ODxAREhMUFRYXGBkaGxwdHh8gISIjJCUmJygpKissLS4vMDE=",
          "dtype": "i1"
         },
         "xaxis": "x",
         "y": {
          "bdata": "EARBEARBoD8YkzEZkzG5PwCgARqgAWo/EARBEARBsD8g1EEd1EGdvyAEQRAEQZA/EBERERERsT8QX/EVX/G1PxAEQRAEQcA/ADiBEziBg78AOIETOIGDPxi6oRu6obs/EDiBEziBoz+UPumTPunDPxBf8RVf8bU/EIZhGIZhqD8AOIETOIGDPxhFURRFUbQ/IKABGqABqr+QJEmSJEnCPxA4gRM4gbM/GFIhFVIhtT8QOIETOIGzPxAEQRAEQaA/GLqhG7qhuz8guqEbuqGrP5AKqZAKqcA/ILqhG7qhqz8gx3Ecx3G8P5RLuZRLucQ/GLqhG7qhuz8gbMEWbMGWPxA4gRM4gbM/GNRBHdRBvT8QERERERGxPxgrsRIrsbI/IDiBEziBk78QERERERGxPxi6oRu6obs/IB7hER7hoT8AoAEaoAF6vxAe4REe4bE/ADiBEziBg78QhmEYhmGoPxAEQRAEQbA/EBERERERsT8YeZEXeZG3PxA4gRM4gaM/nKZpmqZpyj8YbMEWbMG2Pw==",
          "dtype": "f8"
         },
         "yaxis": "y"
        },
        {
         "hovertemplate": "模型=KNN_LDA_泛化差距<br>随机数/迭代次数=%{x}<br>泛化差距=%{y}<extra></extra>",
         "legendgroup": "KNN_LDA_泛化差距",
         "line": {
          "color": "#ab63fa",
          "dash": "solid"
         },
         "marker": {
          "symbol": "circle"
         },
         "mode": "lines+markers",
         "name": "KNN_LDA_泛化差距",
         "orientation": "v",
         "showlegend": true,
         "type": "scatter",
         "x": {
          "bdata": "AAECAwQFBgcICQoLDA0ODxAREhMUFRYXGBkaGxwdHh8gISIjJCUmJygpKissLS4vMDE=",
          "dtype": "i1"
         },
         "xaxis": "x",
         "y": {
          "bdata": "AKABGqABej8QhmEYhmGoPwAEQRAEQZA/AKABGqABer8QHuERHuGhPxAe4REe4aE/INRBHdRBrT8YUiEVUiG1PyDUQR3UQa0/ADiBEziBg78AoAEaoAF6PyDHcRzHcbw/IDiBEziBk78QhmEYhmGoPwAEQRAEQZA/AKABGqABmj8YRVEURVG0PyDu4R7u4a4/QKABGqABij8QhmEYhmGoPyDHcRzHcbw/EB7hER7hoT8g1EEd1EGdP0CgARqgAYo/EB7hER7hoT8QHuERHuGhPwCgARqgAWo/IMdxHMdxvD8ABEEQBEGQPxAe4REe4aE/EBERERERsT8QbMEWbMGmPwAEQRAEQZA/EDiBEziBoz8AoAEaoAGaPxAe4REe4bE/AKABGqABaj8AOIETOIGDv0CgARqgAYo/AKABGqABaj8AoAEaoAF6PxhswRZswbY/AKABGqABer8AoAEaoAGaPwAEQRAEQZA/EIZhGIZhqD8YeZEXeZG3PwAEQRAEQZA/EIZhGIZhqD8ABEEQBEGQPw==",
          "dtype": "f8"
         },
         "yaxis": "y"
        },
        {
         "hovertemplate": "模型=KNN_umap_泛化差距<br>随机数/迭代次数=%{x}<br>泛化差距=%{y}<extra></extra>",
         "legendgroup": "KNN_umap_泛化差距",
         "line": {
          "color": "#FFA15A",
          "dash": "solid"
         },
         "marker": {
          "symbol": "circle"
         },
         "mode": "lines+markers",
         "name": "KNN_umap_泛化差距",
         "orientation": "v",
         "showlegend": true,
         "type": "scatter",
         "x": {
          "bdata": "AAECAwQFBgcICQoLDA0ODxAREhMUFRYXGBkaGxwdHh8gISIjJCUmJygpKissLS4vMDE=",
          "dtype": "i1"
         },
         "xaxis": "x",
         "y": {
          "bdata": "IGzBFmzBlj8QbMEWbMGmPyBswRZswZY/EGzBFmzBpj8QERERERGxPxBswRZswaY/GGzBFmzBtj8QERERERGxPxBswRZswaY/AAAAAAAAAAAgbMEWbMGWPyDHcRzHcbw/IGzBFmzBlj8QbMEWbMGmPxBswRZswaY/IGzBFmzBlj8QERERERGxPxBswRZswaY/AAAAAAAAAAAQERERERGxPxhswRZswbY/GEVRFEVRtD8QERERERGxPyBswRZswZY/IGzBFmzBlj8QbMEWbMGmPxBswRZswaY/EBERERERsT8QbMEWbMGmPxAREREREbE/EGzBFmzBpj8QbMEWbMGmPyBswRZswZY/EBERERERsT8QERERERGxPxhswRZswbY/IGzBFmzBlj8gbMEWbMGWPxBswRZswaY/IGzBFmzBlj8gbMEWbMGWPyDHcRzHcbw/AAAAAAAAAAAQbMEWbMGmPxBswRZswaY/EGzBFmzBpj8gx3Ecx3G8PyBswRZswZY/GGzBFmzBtj8QERERERGxPw==",
          "dtype": "f8"
         },
         "yaxis": "y"
        }
       ],
       "layout": {
        "annotations": [
         {
          "showarrow": false,
          "text": "理想泛化差距 (0)",
          "x": 1,
          "xanchor": "right",
          "xref": "x domain",
          "y": 0,
          "yanchor": "top",
          "yref": "y"
         }
        ],
        "legend": {
         "title": {
          "text": "模型"
         },
         "tracegroupgap": 0
        },
        "shapes": [
         {
          "line": {
           "color": "red",
           "dash": "dash"
          },
          "type": "line",
          "x0": 0,
          "x1": 1,
          "xref": "x domain",
          "y0": 0,
          "y1": 0,
          "yref": "y"
         }
        ],
        "template": {
         "data": {
          "bar": [
           {
            "error_x": {
             "color": "#f2f5fa"
            },
            "error_y": {
             "color": "#f2f5fa"
            },
            "marker": {
             "line": {
              "color": "rgb(17,17,17)",
              "width": 0.5
             },
             "pattern": {
              "fillmode": "overlay",
              "size": 10,
              "solidity": 0.2
             }
            },
            "type": "bar"
           }
          ],
          "barpolar": [
           {
            "marker": {
             "line": {
              "color": "rgb(17,17,17)",
              "width": 0.5
             },
             "pattern": {
              "fillmode": "overlay",
              "size": 10,
              "solidity": 0.2
             }
            },
            "type": "barpolar"
           }
          ],
          "carpet": [
           {
            "aaxis": {
             "endlinecolor": "#A2B1C6",
             "gridcolor": "#506784",
             "linecolor": "#506784",
             "minorgridcolor": "#506784",
             "startlinecolor": "#A2B1C6"
            },
            "baxis": {
             "endlinecolor": "#A2B1C6",
             "gridcolor": "#506784",
             "linecolor": "#506784",
             "minorgridcolor": "#506784",
             "startlinecolor": "#A2B1C6"
            },
            "type": "carpet"
           }
          ],
          "choropleth": [
           {
            "colorbar": {
             "outlinewidth": 0,
             "ticks": ""
            },
            "type": "choropleth"
           }
          ],
          "contour": [
           {
            "colorbar": {
             "outlinewidth": 0,
             "ticks": ""
            },
            "colorscale": [
             [
              0,
              "#0d0887"
             ],
             [
              0.1111111111111111,
              "#46039f"
             ],
             [
              0.2222222222222222,
              "#7201a8"
             ],
             [
              0.3333333333333333,
              "#9c179e"
             ],
             [
              0.4444444444444444,
              "#bd3786"
             ],
             [
              0.5555555555555556,
              "#d8576b"
             ],
             [
              0.6666666666666666,
              "#ed7953"
             ],
             [
              0.7777777777777778,
              "#fb9f3a"
             ],
             [
              0.8888888888888888,
              "#fdca26"
             ],
             [
              1,
              "#f0f921"
             ]
            ],
            "type": "contour"
           }
          ],
          "contourcarpet": [
           {
            "colorbar": {
             "outlinewidth": 0,
             "ticks": ""
            },
            "type": "contourcarpet"
           }
          ],
          "heatmap": [
           {
            "colorbar": {
             "outlinewidth": 0,
             "ticks": ""
            },
            "colorscale": [
             [
              0,
              "#0d0887"
             ],
             [
              0.1111111111111111,
              "#46039f"
             ],
             [
              0.2222222222222222,
              "#7201a8"
             ],
             [
              0.3333333333333333,
              "#9c179e"
             ],
             [
              0.4444444444444444,
              "#bd3786"
             ],
             [
              0.5555555555555556,
              "#d8576b"
             ],
             [
              0.6666666666666666,
              "#ed7953"
             ],
             [
              0.7777777777777778,
              "#fb9f3a"
             ],
             [
              0.8888888888888888,
              "#fdca26"
             ],
             [
              1,
              "#f0f921"
             ]
            ],
            "type": "heatmap"
           }
          ],
          "histogram": [
           {
            "marker": {
             "pattern": {
              "fillmode": "overlay",
              "size": 10,
              "solidity": 0.2
             }
            },
            "type": "histogram"
           }
          ],
          "histogram2d": [
           {
            "colorbar": {
             "outlinewidth": 0,
             "ticks": ""
            },
            "colorscale": [
             [
              0,
              "#0d0887"
             ],
             [
              0.1111111111111111,
              "#46039f"
             ],
             [
              0.2222222222222222,
              "#7201a8"
             ],
             [
              0.3333333333333333,
              "#9c179e"
             ],
             [
              0.4444444444444444,
              "#bd3786"
             ],
             [
              0.5555555555555556,
              "#d8576b"
             ],
             [
              0.6666666666666666,
              "#ed7953"
             ],
             [
              0.7777777777777778,
              "#fb9f3a"
             ],
             [
              0.8888888888888888,
              "#fdca26"
             ],
             [
              1,
              "#f0f921"
             ]
            ],
            "type": "histogram2d"
           }
          ],
          "histogram2dcontour": [
           {
            "colorbar": {
             "outlinewidth": 0,
             "ticks": ""
            },
            "colorscale": [
             [
              0,
              "#0d0887"
             ],
             [
              0.1111111111111111,
              "#46039f"
             ],
             [
              0.2222222222222222,
              "#7201a8"
             ],
             [
              0.3333333333333333,
              "#9c179e"
             ],
             [
              0.4444444444444444,
              "#bd3786"
             ],
             [
              0.5555555555555556,
              "#d8576b"
             ],
             [
              0.6666666666666666,
              "#ed7953"
             ],
             [
              0.7777777777777778,
              "#fb9f3a"
             ],
             [
              0.8888888888888888,
              "#fdca26"
             ],
             [
              1,
              "#f0f921"
             ]
            ],
            "type": "histogram2dcontour"
           }
          ],
          "mesh3d": [
           {
            "colorbar": {
             "outlinewidth": 0,
             "ticks": ""
            },
            "type": "mesh3d"
           }
          ],
          "parcoords": [
           {
            "line": {
             "colorbar": {
              "outlinewidth": 0,
              "ticks": ""
             }
            },
            "type": "parcoords"
           }
          ],
          "pie": [
           {
            "automargin": true,
            "type": "pie"
           }
          ],
          "scatter": [
           {
            "marker": {
             "line": {
              "color": "#283442"
             }
            },
            "type": "scatter"
           }
          ],
          "scatter3d": [
           {
            "line": {
             "colorbar": {
              "outlinewidth": 0,
              "ticks": ""
             }
            },
            "marker": {
             "colorbar": {
              "outlinewidth": 0,
              "ticks": ""
             }
            },
            "type": "scatter3d"
           }
          ],
          "scattercarpet": [
           {
            "marker": {
             "colorbar": {
              "outlinewidth": 0,
              "ticks": ""
             }
            },
            "type": "scattercarpet"
           }
          ],
          "scattergeo": [
           {
            "marker": {
             "colorbar": {
              "outlinewidth": 0,
              "ticks": ""
             }
            },
            "type": "scattergeo"
           }
          ],
          "scattergl": [
           {
            "marker": {
             "line": {
              "color": "#283442"
             }
            },
            "type": "scattergl"
           }
          ],
          "scattermap": [
           {
            "marker": {
             "colorbar": {
              "outlinewidth": 0,
              "ticks": ""
             }
            },
            "type": "scattermap"
           }
          ],
          "scattermapbox": [
           {
            "marker": {
             "colorbar": {
              "outlinewidth": 0,
              "ticks": ""
             }
            },
            "type": "scattermapbox"
           }
          ],
          "scatterpolar": [
           {
            "marker": {
             "colorbar": {
              "outlinewidth": 0,
              "ticks": ""
             }
            },
            "type": "scatterpolar"
           }
          ],
          "scatterpolargl": [
           {
            "marker": {
             "colorbar": {
              "outlinewidth": 0,
              "ticks": ""
             }
            },
            "type": "scatterpolargl"
           }
          ],
          "scatterternary": [
           {
            "marker": {
             "colorbar": {
              "outlinewidth": 0,
              "ticks": ""
             }
            },
            "type": "scatterternary"
           }
          ],
          "surface": [
           {
            "colorbar": {
             "outlinewidth": 0,
             "ticks": ""
            },
            "colorscale": [
             [
              0,
              "#0d0887"
             ],
             [
              0.1111111111111111,
              "#46039f"
             ],
             [
              0.2222222222222222,
              "#7201a8"
             ],
             [
              0.3333333333333333,
              "#9c179e"
             ],
             [
              0.4444444444444444,
              "#bd3786"
             ],
             [
              0.5555555555555556,
              "#d8576b"
             ],
             [
              0.6666666666666666,
              "#ed7953"
             ],
             [
              0.7777777777777778,
              "#fb9f3a"
             ],
             [
              0.8888888888888888,
              "#fdca26"
             ],
             [
              1,
              "#f0f921"
             ]
            ],
            "type": "surface"
           }
          ],
          "table": [
           {
            "cells": {
             "fill": {
              "color": "#506784"
             },
             "line": {
              "color": "rgb(17,17,17)"
             }
            },
            "header": {
             "fill": {
              "color": "#2a3f5f"
             },
             "line": {
              "color": "rgb(17,17,17)"
             }
            },
            "type": "table"
           }
          ]
         },
         "layout": {
          "annotationdefaults": {
           "arrowcolor": "#f2f5fa",
           "arrowhead": 0,
           "arrowwidth": 1
          },
          "autotypenumbers": "strict",
          "coloraxis": {
           "colorbar": {
            "outlinewidth": 0,
            "ticks": ""
           }
          },
          "colorscale": {
           "diverging": [
            [
             0,
             "#8e0152"
            ],
            [
             0.1,
             "#c51b7d"
            ],
            [
             0.2,
             "#de77ae"
            ],
            [
             0.3,
             "#f1b6da"
            ],
            [
             0.4,
             "#fde0ef"
            ],
            [
             0.5,
             "#f7f7f7"
            ],
            [
             0.6,
             "#e6f5d0"
            ],
            [
             0.7,
             "#b8e186"
            ],
            [
             0.8,
             "#7fbc41"
            ],
            [
             0.9,
             "#4d9221"
            ],
            [
             1,
             "#276419"
            ]
           ],
           "sequential": [
            [
             0,
             "#0d0887"
            ],
            [
             0.1111111111111111,
             "#46039f"
            ],
            [
             0.2222222222222222,
             "#7201a8"
            ],
            [
             0.3333333333333333,
             "#9c179e"
            ],
            [
             0.4444444444444444,
             "#bd3786"
            ],
            [
             0.5555555555555556,
             "#d8576b"
            ],
            [
             0.6666666666666666,
             "#ed7953"
            ],
            [
             0.7777777777777778,
             "#fb9f3a"
            ],
            [
             0.8888888888888888,
             "#fdca26"
            ],
            [
             1,
             "#f0f921"
            ]
           ],
           "sequentialminus": [
            [
             0,
             "#0d0887"
            ],
            [
             0.1111111111111111,
             "#46039f"
            ],
            [
             0.2222222222222222,
             "#7201a8"
            ],
            [
             0.3333333333333333,
             "#9c179e"
            ],
            [
             0.4444444444444444,
             "#bd3786"
            ],
            [
             0.5555555555555556,
             "#d8576b"
            ],
            [
             0.6666666666666666,
             "#ed7953"
            ],
            [
             0.7777777777777778,
             "#fb9f3a"
            ],
            [
             0.8888888888888888,
             "#fdca26"
            ],
            [
             1,
             "#f0f921"
            ]
           ]
          },
          "colorway": [
           "#636efa",
           "#EF553B",
           "#00cc96",
           "#ab63fa",
           "#FFA15A",
           "#19d3f3",
           "#FF6692",
           "#B6E880",
           "#FF97FF",
           "#FECB52"
          ],
          "font": {
           "color": "#f2f5fa"
          },
          "geo": {
           "bgcolor": "rgb(17,17,17)",
           "lakecolor": "rgb(17,17,17)",
           "landcolor": "rgb(17,17,17)",
           "showlakes": true,
           "showland": true,
           "subunitcolor": "#506784"
          },
          "hoverlabel": {
           "align": "left"
          },
          "hovermode": "closest",
          "mapbox": {
           "style": "dark"
          },
          "paper_bgcolor": "rgb(17,17,17)",
          "plot_bgcolor": "rgb(17,17,17)",
          "polar": {
           "angularaxis": {
            "gridcolor": "#506784",
            "linecolor": "#506784",
            "ticks": ""
           },
           "bgcolor": "rgb(17,17,17)",
           "radialaxis": {
            "gridcolor": "#506784",
            "linecolor": "#506784",
            "ticks": ""
           }
          },
          "scene": {
           "xaxis": {
            "backgroundcolor": "rgb(17,17,17)",
            "gridcolor": "#506784",
            "gridwidth": 2,
            "linecolor": "#506784",
            "showbackground": true,
            "ticks": "",
            "zerolinecolor": "#C8D4E3"
           },
           "yaxis": {
            "backgroundcolor": "rgb(17,17,17)",
            "gridcolor": "#506784",
            "gridwidth": 2,
            "linecolor": "#506784",
            "showbackground": true,
            "ticks": "",
            "zerolinecolor": "#C8D4E3"
           },
           "zaxis": {
            "backgroundcolor": "rgb(17,17,17)",
            "gridcolor": "#506784",
            "gridwidth": 2,
            "linecolor": "#506784",
            "showbackground": true,
            "ticks": "",
            "zerolinecolor": "#C8D4E3"
           }
          },
          "shapedefaults": {
           "line": {
            "color": "#f2f5fa"
           }
          },
          "sliderdefaults": {
           "bgcolor": "#C8D4E3",
           "bordercolor": "rgb(17,17,17)",
           "borderwidth": 1,
           "tickwidth": 0
          },
          "ternary": {
           "aaxis": {
            "gridcolor": "#506784",
            "linecolor": "#506784",
            "ticks": ""
           },
           "baxis": {
            "gridcolor": "#506784",
            "linecolor": "#506784",
            "ticks": ""
           },
           "bgcolor": "rgb(17,17,17)",
           "caxis": {
            "gridcolor": "#506784",
            "linecolor": "#506784",
            "ticks": ""
           }
          },
          "title": {
           "x": 0.05
          },
          "updatemenudefaults": {
           "bgcolor": "#506784",
           "borderwidth": 0
          },
          "xaxis": {
           "automargin": true,
           "gridcolor": "#283442",
           "linecolor": "#506784",
           "ticks": "",
           "title": {
            "standoff": 15
           },
           "zerolinecolor": "#283442",
           "zerolinewidth": 2
          },
          "yaxis": {
           "automargin": true,
           "gridcolor": "#283442",
           "linecolor": "#506784",
           "ticks": "",
           "title": {
            "standoff": 15
           },
           "zerolinecolor": "#283442",
           "zerolinewidth": 2
          }
         }
        },
        "title": {
         "text": "不同模型在50次循环中的泛化差距变化 (Train Acc - Val Acc)"
        },
        "xaxis": {
         "anchor": "y",
         "domain": [
          0,
          1
         ],
         "title": {
          "text": "随机数/迭代次数"
         }
        },
        "yaxis": {
         "anchor": "x",
         "domain": [
          0,
          1
         ],
         "title": {
          "text": "泛化差距"
         }
        }
       }
      }
     },
     "metadata": {},
     "output_type": "display_data"
    },
    {
     "name": "stdout",
     "output_type": "stream",
     "text": [
      "显示F1_Score图表 (Plotly)\n"
     ]
    },
    {
     "data": {
      "application/vnd.plotly.v1+json": {
       "config": {
        "plotlyServerURL": "https://plot.ly"
       },
       "data": [
        {
         "hovertemplate": "模型=KNN_std_F1_Score<br>随机数/迭代次数=%{x}<br>F1_Score=%{y}<extra></extra>",
         "legendgroup": "KNN_std_F1_Score",
         "line": {
          "color": "#636efa",
          "dash": "solid"
         },
         "marker": {
          "symbol": "circle"
         },
         "mode": "lines+markers",
         "name": "KNN_std_F1_Score",
         "orientation": "v",
         "showlegend": true,
         "type": "scatter",
         "x": {
          "bdata": "AAECAwQFBgcICQoLDA0ODxAREhMUFRYXGBkaGxwdHh8gISIjJCUmJygpKissLS4vMDE=",
          "dtype": "i1"
         },
         "xaxis": "x",
         "y": {
          "bdata": "P+mTPumT7j8smpcgQc/tPwAAAAAAAPA/27RsGrlJ7z8/6ZM+6ZPuP5pCHyAH3O0/faQafaQa7T+3jUc6ux/tPzMvHB+B1O0/AAAAAAAA8D+c6FYEVkrvP9K5BA0C3+0/XNFHpsJK7z89ADE9ADHtP0YLCjuTy+0/mkIfIAfc7T8/mvnKY9DtP701wokCj+4/AAAAAAAA8D/aJlFLQxjtPywEh7SMD+0/uRufKjhm7D92N066e5LuP1x/qQ90Se8/P+mTPumT7j+Rge7ZRNrtP97d3d3d3e0/YRnYib5s7D9XiEw6wdrtP1d1nOOqcuw/fdInfdIn7T+LBL9dfkrvPz/pkz7pk+4/fdInfdIn7T/YUF5DeQ3tPy6frqUWJu0/n/RJn/RJ7z+/NJe+NJfuPz/pkz7pk+4/zp2Rzp2R7j+f9Emf9EnvPyiNrKZlb+w/Ir+GlK9J7z9vbzRR6kjvPwvnVxspYOw/n2sxjlog7T+SCntTSm7sP5zOATVom+4/eR5cmu5w7D/yzNSnLeDtPw==",
          "dtype": "f8"
         },
         "yaxis": "y"
        },
        {
         "hovertemplate": "模型=KNN_std_Only_petal_F1_Score<br>随机数/迭代次数=%{x}<br>F1_Score=%{y}<extra></extra>",
         "legendgroup": "KNN_std_Only_petal_F1_Score",
         "line": {
          "color": "#EF553B",
          "dash": "solid"
         },
         "marker": {
          "symbol": "circle"
         },
         "mode": "lines+markers",
         "name": "KNN_std_Only_petal_F1_Score",
         "orientation": "v",
         "showlegend": true,
         "type": "scatter",
         "x": {
          "bdata": "AAECAwQFBgcICQoLDA0ODxAREhMUFRYXGBkaGxwdHh8gISIjJCUmJygpKissLS4vMDE=",
          "dtype": "i1"
         },
         "xaxis": "x",
         "y": {
          "bdata": "gfQZyxRI7z+ion1UxkjvP9JH2DhASe8/h0/WQguS7j/EXTkKdZbuPz/pkz7pk+4/fMVXfMVX7D/e3d3d3d3tP307IX07Ie0/XH+pD3RJ7z/upPdbL0nvP9K5BA0C3+0/PdFFhsJI7z89ADE9ADHtPzevJp4Vje4/v52Qvp2Q7j8/mvnKY9DtP56qd0MU0e0/AAAAAAAA8D+iEPl/7tbtPywEh7SMD+0/zeJOECeT7j+OTsArBtntP3XPf4XgkO4/znlf7f5K7z8/6ZM+6ZPuP5/0SZ/0Se8/3t3d3d3d7T9b0XVaokrvPzMTkYhm3u0/P+mTPumT7j/36LctfY/uPxwqDao5Su8/TdmGAknf7T9sKK+hvIbuP97d3d3d3e0/AAAAAAAA8D/OeV/t/krvP2U0JyQwSu8/pAA9OpNJ7z8SrLuk89ntP0vuzTBw3O0/Ir+GlK9J7z9Dvse02o7uP2U0JyQwSu8/8p8WMsbb7T990id90iftP5zOATVom+4/jhCy+BxK7z9H7Ds22yrtPw==",
          "dtype": "f8"
         },
         "yaxis": "y"
        },
        {
         "hovertemplate": "模型=KNN_PCA_F1_Score<br>随机数/迭代次数=%{x}<br>F1_Score=%{y}<extra></extra>",
         "legendgroup": "KNN_PCA_F1_Score",
         "line": {
          "color": "#00cc96",
          "dash": "solid"
         },
         "marker": {
          "symbol": "circle"
         },
         "mode": "lines+markers",
         "name": "KNN_PCA_F1_Score",
         "orientation": "v",
         "showlegend": true,
         "type": "scatter",
         "x": {
          "bdata": "AAECAwQFBgcICQoLDA0ODxAREhMUFRYXGBkaGxwdHh8gISIjJCUmJygpKissLS4vMDE=",
          "dtype": "i1"
         },
         "xaxis": "x",
         "y": {
          "bdata": "omnb974w7T8z3kUyFQvrP33SJ33SJ+0/Q4gfhJ1w7D+2iFKaweDtP1XE3oq2buw/vPanu/an6z+UVGvXmK/rPwpU42ZH0eo/9mgp0qzU7T/SuQQNAt/tP1uwBVuwBes/te+U6CLI6z/v7u7u7u7oP6gNdNpAp+s/17nygGSd6z9QTp3zvtrtP4vtwbJqlOo/P+mTPumT7j/hL69zdmTpP+a6J4l3rus/s02iloYw6j+8u7u7u7vrP79/h6YiE+0/plScffgM6z/w1+IVyGvsP3pJPXpJPeo/HMdxHMdx7D/6pE/6pE/qP5W5TJnLlOk/3ndFGxEM6z8ONrOFrSrtP5Q7QLkDlOs/kfJKZ5p76T9DeQ3lNZTrPxzHcRzHcew/3t3d3d3d7T9YfMVXfMXrP7z26Y3BAOs/uRufKjhm7D/VUR3VUR3tP9CUMsjJ9Oo/1VyEX3/W7T/w/rKQ7JHrP5IKe1NKbuw/mpmZmZmZ6z8/12IctUDqP9s3rH3D2us/uhXTqATC5z9bsAVbsAXrPw==",
          "dtype": "f8"
         },
         "yaxis": "y"
        },
        {
         "hovertemplate": "模型=KNN_LDA_F1_Score<br>随机数/迭代次数=%{x}<br>F1_Score=%{y}<extra></extra>",
         "legendgroup": "KNN_LDA_F1_Score",
         "line": {
          "color": "#ab63fa",
          "dash": "solid"
         },
         "marker": {
          "symbol": "circle"
         },
         "mode": "lines+markers",
         "name": "KNN_LDA_F1_Score",
         "orientation": "v",
         "showlegend": true,
         "type": "scatter",
         "x": {
          "bdata": "AAECAwQFBgcICQoLDA0ODxAREhMUFRYXGBkaGxwdHh8gISIjJCUmJygpKissLS4vMDE=",
          "dtype": "i1"
         },
         "xaxis": "x",
         "y": {
          "bdata": "P+mTPumT7j/i53j9UtrtPwHJOlcekO4/27RsGrlJ7z8/6ZM+6ZPuPz/pkz7pk+4/EQyipFnY7T8cx3Ecx3HsPzMvHB+B1O0/AAAAAAAA8D9VPh5yBZDuPwqLshWuc+w/AAAAAAAA8D8aq8I7zeTtPzevJp4Vje4/v52Qvp2Q7j9K/yEL8wvtP97QDd3QDe0/YSg0iZFK7z+iEPl/7tbtP6S3CIlXRuw/zeJOECeT7j+OTsArBtntP1x/qQ90Se8/P+mTPumT7j85KevyEY7uP5/0SZ/0Se8/HMdxHMdx7D9v+ksP75XuPz/pkz7pk+4/XzP5nZng7T8/6ZM+6ZPuPz/pkz7pk+4/TdmGAknf7T8/6ZM+6ZPuPy6frqUWJu0/n/RJn/RJ7z8AAAAAAADwP9JH2DhASe8/pAA9OpNJ7z+XT9dSC5PuP33SJ33SJ+0/Ir+GlK9J7z8/6ZM+6ZPuPz/pkz7pk+4/8p8WMsbb7T/1BcS08HLsP5zOATVom+4/S+7NMHDc7T8/6ZM+6ZPuPw==",
          "dtype": "f8"
         },
         "yaxis": "y"
        },
        {
         "hovertemplate": "模型=KNN_umap_F1_Score<br>随机数/迭代次数=%{x}<br>F1_Score=%{y}<extra></extra>",
         "legendgroup": "KNN_umap_F1_Score",
         "line": {
          "color": "#FFA15A",
          "dash": "solid"
         },
         "marker": {
          "symbol": "circle"
         },
         "mode": "lines+markers",
         "name": "KNN_umap_F1_Score",
         "orientation": "v",
         "showlegend": true,
         "type": "scatter",
         "x": {
          "bdata": "AAECAwQFBgcICQoLDA0ODxAREhMUFRYXGBkaGxwdHh8gISIjJCUmJygpKissLS4vMDE=",
          "dtype": "i1"
         },
         "xaxis": "x",
         "y": {
          "bdata": "/dkB+k9L7z8/6ZM+6ZPuP2U0JyQwSu8/P+mTPumT7j/amWUNEOXtPz/pkz7pk+4/faQafaQa7T/e3d3d3d3tP7+dkL6dkO4/AAAAAAAA8D+c6FYEVkrvP6U41svsbew/pbI67s1I7z8olAkLzZfuPzevJp4Vje4/KywbdihK7z9QTp3zvtrtP701wokCj+4/AAAAAAAA8D+iEPl/7tbtPywEh7SMD+0/nDsjnTsj7T9NSYQCIN/tP1x/qQ90Se8/znlf7f5K7z8/6ZM+6ZPuPz/pkz7pk+4/3t3d3d3d7T9v+ksP75XuPzMTkYhm3u0/P+mTPumT7j9pLbxmto/uPxwqDao5Su8/TdmGAknf7T81sHdMDeztPy6frqUWJu0/UH2bQ4VJ7z9yQttHdUjvPz/pkz7pk+4/pAA9OpNJ7z/ewF+1V0nvPyiNrKZlb+w/AAAAAAAA8D9yPCLYNJPuPz/pkz7pk+4/P+mTPumT7j/1BcS08HLsP/UnrUMlTO8/XgXrUrYi7T/yzNSnLeDtPw==",
          "dtype": "f8"
         },
         "yaxis": "y"
        }
       ],
       "layout": {
        "annotations": [
         {
          "showarrow": false,
          "text": "理想F1_Score (1)",
          "x": 1,
          "xanchor": "right",
          "xref": "x domain",
          "y": 1,
          "yanchor": "top",
          "yref": "y"
         }
        ],
        "legend": {
         "title": {
          "text": "模型"
         },
         "tracegroupgap": 0
        },
        "shapes": [
         {
          "line": {
           "color": "blue",
           "dash": "dash"
          },
          "type": "line",
          "x0": 0,
          "x1": 1,
          "xref": "x domain",
          "y0": 1,
          "y1": 1,
          "yref": "y"
         }
        ],
        "template": {
         "data": {
          "bar": [
           {
            "error_x": {
             "color": "#f2f5fa"
            },
            "error_y": {
             "color": "#f2f5fa"
            },
            "marker": {
             "line": {
              "color": "rgb(17,17,17)",
              "width": 0.5
             },
             "pattern": {
              "fillmode": "overlay",
              "size": 10,
              "solidity": 0.2
             }
            },
            "type": "bar"
           }
          ],
          "barpolar": [
           {
            "marker": {
             "line": {
              "color": "rgb(17,17,17)",
              "width": 0.5
             },
             "pattern": {
              "fillmode": "overlay",
              "size": 10,
              "solidity": 0.2
             }
            },
            "type": "barpolar"
           }
          ],
          "carpet": [
           {
            "aaxis": {
             "endlinecolor": "#A2B1C6",
             "gridcolor": "#506784",
             "linecolor": "#506784",
             "minorgridcolor": "#506784",
             "startlinecolor": "#A2B1C6"
            },
            "baxis": {
             "endlinecolor": "#A2B1C6",
             "gridcolor": "#506784",
             "linecolor": "#506784",
             "minorgridcolor": "#506784",
             "startlinecolor": "#A2B1C6"
            },
            "type": "carpet"
           }
          ],
          "choropleth": [
           {
            "colorbar": {
             "outlinewidth": 0,
             "ticks": ""
            },
            "type": "choropleth"
           }
          ],
          "contour": [
           {
            "colorbar": {
             "outlinewidth": 0,
             "ticks": ""
            },
            "colorscale": [
             [
              0,
              "#0d0887"
             ],
             [
              0.1111111111111111,
              "#46039f"
             ],
             [
              0.2222222222222222,
              "#7201a8"
             ],
             [
              0.3333333333333333,
              "#9c179e"
             ],
             [
              0.4444444444444444,
              "#bd3786"
             ],
             [
              0.5555555555555556,
              "#d8576b"
             ],
             [
              0.6666666666666666,
              "#ed7953"
             ],
             [
              0.7777777777777778,
              "#fb9f3a"
             ],
             [
              0.8888888888888888,
              "#fdca26"
             ],
             [
              1,
              "#f0f921"
             ]
            ],
            "type": "contour"
           }
          ],
          "contourcarpet": [
           {
            "colorbar": {
             "outlinewidth": 0,
             "ticks": ""
            },
            "type": "contourcarpet"
           }
          ],
          "heatmap": [
           {
            "colorbar": {
             "outlinewidth": 0,
             "ticks": ""
            },
            "colorscale": [
             [
              0,
              "#0d0887"
             ],
             [
              0.1111111111111111,
              "#46039f"
             ],
             [
              0.2222222222222222,
              "#7201a8"
             ],
             [
              0.3333333333333333,
              "#9c179e"
             ],
             [
              0.4444444444444444,
              "#bd3786"
             ],
             [
              0.5555555555555556,
              "#d8576b"
             ],
             [
              0.6666666666666666,
              "#ed7953"
             ],
             [
              0.7777777777777778,
              "#fb9f3a"
             ],
             [
              0.8888888888888888,
              "#fdca26"
             ],
             [
              1,
              "#f0f921"
             ]
            ],
            "type": "heatmap"
           }
          ],
          "histogram": [
           {
            "marker": {
             "pattern": {
              "fillmode": "overlay",
              "size": 10,
              "solidity": 0.2
             }
            },
            "type": "histogram"
           }
          ],
          "histogram2d": [
           {
            "colorbar": {
             "outlinewidth": 0,
             "ticks": ""
            },
            "colorscale": [
             [
              0,
              "#0d0887"
             ],
             [
              0.1111111111111111,
              "#46039f"
             ],
             [
              0.2222222222222222,
              "#7201a8"
             ],
             [
              0.3333333333333333,
              "#9c179e"
             ],
             [
              0.4444444444444444,
              "#bd3786"
             ],
             [
              0.5555555555555556,
              "#d8576b"
             ],
             [
              0.6666666666666666,
              "#ed7953"
             ],
             [
              0.7777777777777778,
              "#fb9f3a"
             ],
             [
              0.8888888888888888,
              "#fdca26"
             ],
             [
              1,
              "#f0f921"
             ]
            ],
            "type": "histogram2d"
           }
          ],
          "histogram2dcontour": [
           {
            "colorbar": {
             "outlinewidth": 0,
             "ticks": ""
            },
            "colorscale": [
             [
              0,
              "#0d0887"
             ],
             [
              0.1111111111111111,
              "#46039f"
             ],
             [
              0.2222222222222222,
              "#7201a8"
             ],
             [
              0.3333333333333333,
              "#9c179e"
             ],
             [
              0.4444444444444444,
              "#bd3786"
             ],
             [
              0.5555555555555556,
              "#d8576b"
             ],
             [
              0.6666666666666666,
              "#ed7953"
             ],
             [
              0.7777777777777778,
              "#fb9f3a"
             ],
             [
              0.8888888888888888,
              "#fdca26"
             ],
             [
              1,
              "#f0f921"
             ]
            ],
            "type": "histogram2dcontour"
           }
          ],
          "mesh3d": [
           {
            "colorbar": {
             "outlinewidth": 0,
             "ticks": ""
            },
            "type": "mesh3d"
           }
          ],
          "parcoords": [
           {
            "line": {
             "colorbar": {
              "outlinewidth": 0,
              "ticks": ""
             }
            },
            "type": "parcoords"
           }
          ],
          "pie": [
           {
            "automargin": true,
            "type": "pie"
           }
          ],
          "scatter": [
           {
            "marker": {
             "line": {
              "color": "#283442"
             }
            },
            "type": "scatter"
           }
          ],
          "scatter3d": [
           {
            "line": {
             "colorbar": {
              "outlinewidth": 0,
              "ticks": ""
             }
            },
            "marker": {
             "colorbar": {
              "outlinewidth": 0,
              "ticks": ""
             }
            },
            "type": "scatter3d"
           }
          ],
          "scattercarpet": [
           {
            "marker": {
             "colorbar": {
              "outlinewidth": 0,
              "ticks": ""
             }
            },
            "type": "scattercarpet"
           }
          ],
          "scattergeo": [
           {
            "marker": {
             "colorbar": {
              "outlinewidth": 0,
              "ticks": ""
             }
            },
            "type": "scattergeo"
           }
          ],
          "scattergl": [
           {
            "marker": {
             "line": {
              "color": "#283442"
             }
            },
            "type": "scattergl"
           }
          ],
          "scattermap": [
           {
            "marker": {
             "colorbar": {
              "outlinewidth": 0,
              "ticks": ""
             }
            },
            "type": "scattermap"
           }
          ],
          "scattermapbox": [
           {
            "marker": {
             "colorbar": {
              "outlinewidth": 0,
              "ticks": ""
             }
            },
            "type": "scattermapbox"
           }
          ],
          "scatterpolar": [
           {
            "marker": {
             "colorbar": {
              "outlinewidth": 0,
              "ticks": ""
             }
            },
            "type": "scatterpolar"
           }
          ],
          "scatterpolargl": [
           {
            "marker": {
             "colorbar": {
              "outlinewidth": 0,
              "ticks": ""
             }
            },
            "type": "scatterpolargl"
           }
          ],
          "scatterternary": [
           {
            "marker": {
             "colorbar": {
              "outlinewidth": 0,
              "ticks": ""
             }
            },
            "type": "scatterternary"
           }
          ],
          "surface": [
           {
            "colorbar": {
             "outlinewidth": 0,
             "ticks": ""
            },
            "colorscale": [
             [
              0,
              "#0d0887"
             ],
             [
              0.1111111111111111,
              "#46039f"
             ],
             [
              0.2222222222222222,
              "#7201a8"
             ],
             [
              0.3333333333333333,
              "#9c179e"
             ],
             [
              0.4444444444444444,
              "#bd3786"
             ],
             [
              0.5555555555555556,
              "#d8576b"
             ],
             [
              0.6666666666666666,
              "#ed7953"
             ],
             [
              0.7777777777777778,
              "#fb9f3a"
             ],
             [
              0.8888888888888888,
              "#fdca26"
             ],
             [
              1,
              "#f0f921"
             ]
            ],
            "type": "surface"
           }
          ],
          "table": [
           {
            "cells": {
             "fill": {
              "color": "#506784"
             },
             "line": {
              "color": "rgb(17,17,17)"
             }
            },
            "header": {
             "fill": {
              "color": "#2a3f5f"
             },
             "line": {
              "color": "rgb(17,17,17)"
             }
            },
            "type": "table"
           }
          ]
         },
         "layout": {
          "annotationdefaults": {
           "arrowcolor": "#f2f5fa",
           "arrowhead": 0,
           "arrowwidth": 1
          },
          "autotypenumbers": "strict",
          "coloraxis": {
           "colorbar": {
            "outlinewidth": 0,
            "ticks": ""
           }
          },
          "colorscale": {
           "diverging": [
            [
             0,
             "#8e0152"
            ],
            [
             0.1,
             "#c51b7d"
            ],
            [
             0.2,
             "#de77ae"
            ],
            [
             0.3,
             "#f1b6da"
            ],
            [
             0.4,
             "#fde0ef"
            ],
            [
             0.5,
             "#f7f7f7"
            ],
            [
             0.6,
             "#e6f5d0"
            ],
            [
             0.7,
             "#b8e186"
            ],
            [
             0.8,
             "#7fbc41"
            ],
            [
             0.9,
             "#4d9221"
            ],
            [
             1,
             "#276419"
            ]
           ],
           "sequential": [
            [
             0,
             "#0d0887"
            ],
            [
             0.1111111111111111,
             "#46039f"
            ],
            [
             0.2222222222222222,
             "#7201a8"
            ],
            [
             0.3333333333333333,
             "#9c179e"
            ],
            [
             0.4444444444444444,
             "#bd3786"
            ],
            [
             0.5555555555555556,
             "#d8576b"
            ],
            [
             0.6666666666666666,
             "#ed7953"
            ],
            [
             0.7777777777777778,
             "#fb9f3a"
            ],
            [
             0.8888888888888888,
             "#fdca26"
            ],
            [
             1,
             "#f0f921"
            ]
           ],
           "sequentialminus": [
            [
             0,
             "#0d0887"
            ],
            [
             0.1111111111111111,
             "#46039f"
            ],
            [
             0.2222222222222222,
             "#7201a8"
            ],
            [
             0.3333333333333333,
             "#9c179e"
            ],
            [
             0.4444444444444444,
             "#bd3786"
            ],
            [
             0.5555555555555556,
             "#d8576b"
            ],
            [
             0.6666666666666666,
             "#ed7953"
            ],
            [
             0.7777777777777778,
             "#fb9f3a"
            ],
            [
             0.8888888888888888,
             "#fdca26"
            ],
            [
             1,
             "#f0f921"
            ]
           ]
          },
          "colorway": [
           "#636efa",
           "#EF553B",
           "#00cc96",
           "#ab63fa",
           "#FFA15A",
           "#19d3f3",
           "#FF6692",
           "#B6E880",
           "#FF97FF",
           "#FECB52"
          ],
          "font": {
           "color": "#f2f5fa"
          },
          "geo": {
           "bgcolor": "rgb(17,17,17)",
           "lakecolor": "rgb(17,17,17)",
           "landcolor": "rgb(17,17,17)",
           "showlakes": true,
           "showland": true,
           "subunitcolor": "#506784"
          },
          "hoverlabel": {
           "align": "left"
          },
          "hovermode": "closest",
          "mapbox": {
           "style": "dark"
          },
          "paper_bgcolor": "rgb(17,17,17)",
          "plot_bgcolor": "rgb(17,17,17)",
          "polar": {
           "angularaxis": {
            "gridcolor": "#506784",
            "linecolor": "#506784",
            "ticks": ""
           },
           "bgcolor": "rgb(17,17,17)",
           "radialaxis": {
            "gridcolor": "#506784",
            "linecolor": "#506784",
            "ticks": ""
           }
          },
          "scene": {
           "xaxis": {
            "backgroundcolor": "rgb(17,17,17)",
            "gridcolor": "#506784",
            "gridwidth": 2,
            "linecolor": "#506784",
            "showbackground": true,
            "ticks": "",
            "zerolinecolor": "#C8D4E3"
           },
           "yaxis": {
            "backgroundcolor": "rgb(17,17,17)",
            "gridcolor": "#506784",
            "gridwidth": 2,
            "linecolor": "#506784",
            "showbackground": true,
            "ticks": "",
            "zerolinecolor": "#C8D4E3"
           },
           "zaxis": {
            "backgroundcolor": "rgb(17,17,17)",
            "gridcolor": "#506784",
            "gridwidth": 2,
            "linecolor": "#506784",
            "showbackground": true,
            "ticks": "",
            "zerolinecolor": "#C8D4E3"
           }
          },
          "shapedefaults": {
           "line": {
            "color": "#f2f5fa"
           }
          },
          "sliderdefaults": {
           "bgcolor": "#C8D4E3",
           "bordercolor": "rgb(17,17,17)",
           "borderwidth": 1,
           "tickwidth": 0
          },
          "ternary": {
           "aaxis": {
            "gridcolor": "#506784",
            "linecolor": "#506784",
            "ticks": ""
           },
           "baxis": {
            "gridcolor": "#506784",
            "linecolor": "#506784",
            "ticks": ""
           },
           "bgcolor": "rgb(17,17,17)",
           "caxis": {
            "gridcolor": "#506784",
            "linecolor": "#506784",
            "ticks": ""
           }
          },
          "title": {
           "x": 0.05
          },
          "updatemenudefaults": {
           "bgcolor": "#506784",
           "borderwidth": 0
          },
          "xaxis": {
           "automargin": true,
           "gridcolor": "#283442",
           "linecolor": "#506784",
           "ticks": "",
           "title": {
            "standoff": 15
           },
           "zerolinecolor": "#283442",
           "zerolinewidth": 2
          },
          "yaxis": {
           "automargin": true,
           "gridcolor": "#283442",
           "linecolor": "#506784",
           "ticks": "",
           "title": {
            "standoff": 15
           },
           "zerolinecolor": "#283442",
           "zerolinewidth": 2
          }
         }
        },
        "title": {
         "text": "不同模型在50次循环中的F1_Score变化"
        },
        "xaxis": {
         "anchor": "y",
         "domain": [
          0,
          1
         ],
         "title": {
          "text": "随机数/迭代次数"
         }
        },
        "yaxis": {
         "anchor": "x",
         "domain": [
          0,
          1
         ],
         "title": {
          "text": "F1_Score"
         }
        }
       }
      }
     },
     "metadata": {},
     "output_type": "display_data"
    }
   ],
   "source": [
    "# -------------------------------------------------------------\n",
    "# 1. 绘制准确率折线图\n",
    "# -------------------------------------------------------------\n",
    "\n",
    "# 将准确率数据从“宽格式”转换为“长格式”\n",
    "# Plotly Express 偏好长格式数据 (Long Format)\n",
    "df_acc_long = df_results.melt(\n",
    "    id_vars=['Iteration'],\n",
    "    value_vars=accuracy_cols,\n",
    "    var_name='模型',\n",
    "    value_name='准确率'\n",
    ")\n",
    "\n",
    "fig_acc = px.line(\n",
    "    df_acc_long,\n",
    "    x='Iteration',\n",
    "    y='准确率',\n",
    "    color='模型',\n",
    "    title='不同模型在50次循环中的验证准确率变化',\n",
    "    labels={'Iteration': '随机数/迭代次数', '准确率': '准确率 (Validation Accuracy)'}\n",
    ")\n",
    "\n",
    "# 增加交互性，例如悬停时显示更多信息\n",
    "fig_acc.update_traces(mode='lines+markers')\n",
    "\n",
    "# -------------------------------------------------------------\n",
    "# 2. 绘制泛化差距折线图\n",
    "# -------------------------------------------------------------\n",
    "\n",
    "# 将泛化差距数据从“宽格式”转换为“长格式”(Long Format)\n",
    "df_gap_long = df_results.melt(\n",
    "    id_vars=['Iteration'],\n",
    "    value_vars=gap_cols,\n",
    "    var_name='模型',\n",
    "    value_name='泛化差距'\n",
    ")\n",
    "\n",
    "fig_gap = px.line(\n",
    "    df_gap_long,\n",
    "    x='Iteration',\n",
    "    y='泛化差距',\n",
    "    color='模型',\n",
    "    title='不同模型在50次循环中的泛化差距变化 (Train Acc - Val Acc)',\n",
    "    labels={'Iteration': '随机数/迭代次数', '泛化差距': '泛化差距'}\n",
    ")\n",
    "\n",
    "# 增加参考线：泛化差距目标是接近 0\n",
    "fig_gap.add_hline(y=0, line_dash=\"dash\", line_color=\"red\", annotation_text=\"理想泛化差距 (0)\", annotation_position=\"bottom right\")\n",
    "\n",
    "fig_gap.update_traces(mode='lines+markers')\n",
    "# -------------------------------------------------------------\n",
    "# 2. 绘制F1_Score折线图\n",
    "# -------------------------------------------------------------\n",
    "\n",
    "# 将F1_Score数据从“宽格式”转换为“长格式”(Long Format)\n",
    "df_f1_long = df_results.melt(\n",
    "    id_vars=['Iteration'],\n",
    "    value_vars=f1_cols,\n",
    "    var_name='模型',\n",
    "    value_name='F1_Score'\n",
    ")\n",
    "\n",
    "fig_f1 = px.line(\n",
    "    df_f1_long,\n",
    "    x='Iteration',\n",
    "    y='F1_Score',\n",
    "    color='模型',\n",
    "    title='不同模型在50次循环中的F1_Score变化',\n",
    "    labels={'Iteration': '随机数/迭代次数', 'F1_Score': 'F1_Score'}\n",
    ")\n",
    "\n",
    "# 增加参考线：F1_Score目标是接近 1\n",
    "fig_f1.add_hline(y=1, line_dash=\"dash\", line_color=\"blue\", annotation_text=\"理想F1_Score (1)\", annotation_position=\"bottom right\")\n",
    "\n",
    "fig_f1.update_traces(mode='lines+markers')\n",
    "# -------------------------------------------------------------\n",
    "# 3. 显示图表\n",
    "# -------------------------------------------------------------\n",
    "print(\"显示准确率图表 (Plotly)\")\n",
    "fig_acc.show()\n",
    "\n",
    "print(\"显示泛化差距图表 (Plotly)\")\n",
    "fig_gap.show()\n",
    "\n",
    "print(\"显示F1_Score图表 (Plotly)\")\n",
    "fig_f1.show()  # Updated to show the F1_Score chart"
   ]
  },
  {
   "cell_type": "markdown",
   "id": "ba2c2e368e8b4f3a",
   "metadata": {},
   "source": [
    "#### 绘制经典的matplotlib的动态图"
   ]
  },
  {
   "cell_type": "code",
   "execution_count": 3,
   "id": "2332b03583eeea61",
   "metadata": {
    "ExecuteTime": {
     "end_time": "2025-10-12T22:32:20.868615Z",
     "start_time": "2025-10-12T22:32:20.831593Z"
    }
   },
   "outputs": [
    {
     "ename": "NameError",
     "evalue": "name 'df_results' is not defined",
     "output_type": "error",
     "traceback": [
      "\u001b[1;31m---------------------------------------------------------------------------\u001b[0m",
      "\u001b[1;31mNameError\u001b[0m                                 Traceback (most recent call last)",
      "Cell \u001b[1;32mIn[3], line 1\u001b[0m\n\u001b[1;32m----> 1\u001b[0m df_accuracy \u001b[38;5;241m=\u001b[39m \u001b[43mdf_results\u001b[49m[[\u001b[38;5;124m'\u001b[39m\u001b[38;5;124mIteration\u001b[39m\u001b[38;5;124m'\u001b[39m] \u001b[38;5;241m+\u001b[39m accuracy_cols]\u001b[38;5;241m.\u001b[39mset_index(\u001b[38;5;124m'\u001b[39m\u001b[38;5;124mIteration\u001b[39m\u001b[38;5;124m'\u001b[39m)\n\u001b[0;32m      2\u001b[0m df_gap \u001b[38;5;241m=\u001b[39m df_results[[\u001b[38;5;124m'\u001b[39m\u001b[38;5;124mIteration\u001b[39m\u001b[38;5;124m'\u001b[39m] \u001b[38;5;241m+\u001b[39m gap_cols]\u001b[38;5;241m.\u001b[39mset_index(\u001b[38;5;124m'\u001b[39m\u001b[38;5;124mIteration\u001b[39m\u001b[38;5;124m'\u001b[39m)\n\u001b[0;32m      4\u001b[0m \u001b[38;5;66;03m# --- 绘制准确率折线图 ---\u001b[39;00m\n",
      "\u001b[1;31mNameError\u001b[0m: name 'df_results' is not defined"
     ]
    }
   ],
   "source": [
    "\n",
    "df_accuracy = df_results[['Iteration'] + accuracy_cols].set_index('Iteration')\n",
    "df_gap = df_results[['Iteration'] + gap_cols].set_index('Iteration')\n",
    "\n",
    "# --- 绘制准确率折线图 ---\n",
    "plt.figure(figsize=(20, 20))\n",
    "\n",
    "plt.subplot(3, 1, 1) # 第一个子图：准确率\n",
    "df_accuracy.plot(ax=plt.gca())\n",
    "plt.title(f'{NUM_ITERATIONS} 次循环的准确率变化')\n",
    "plt.xlabel('随机数/迭代次数')\n",
    "plt.ylabel('准确率 (Validation Accuracy)')\n",
    "plt.grid(axis='y', linestyle='--')\n",
    "plt.ylim(df_accuracy.min().min() * 0.95, 1.05) # 调整 Y 轴范围以更好地展示变化\n",
    "plt.legend(title='模型', bbox_to_anchor=(1.05, 1), loc='upper left')\n",
    "\n",
    "# --- 绘制泛化差距折线图 ---\n",
    "plt.subplot(3, 1, 2) # 第二个子图：泛化差距\n",
    "df_gap.plot(ax=plt.gca())\n",
    "plt.title(f'{NUM_ITERATIONS} 次循环的泛化差距变化')\n",
    "plt.xlabel('随机数/迭代次数')\n",
    "plt.ylabel('泛化差距 (Train Acc - Val Acc)')\n",
    "plt.axhline(0, color='r', linestyle='--') # 标记零线\n",
    "plt.grid(axis='y', linestyle='--')\n",
    "plt.legend(title='模型', bbox_to_anchor=(1.05, 1), loc='upper left')\n",
    "\n",
    "#--- 绘制布局 ---\n",
    "plt.tight_layout(rect=[0, 0, 0.9, 1]) # 调整布局，防止图例重叠\n",
    "plt.show()\n",
    "\n",
    "# --- 额外信息：计算平均性能 ---\n",
    "print(\"\\n--- 50 次循环的平均性能 ---\")\n",
    "print(df_results.drop(columns=['Iteration']).mean().to_frame(name='平均值'))"
   ]
  },
  {
   "cell_type": "markdown",
   "id": "572eb219aed8e5e2",
   "metadata": {},
   "source": [
    "## test KNN in iris data.Only use orginal data"
   ]
  },
  {
   "cell_type": "code",
   "execution_count": 166,
   "id": "4f818985a8bb375c",
   "metadata": {
    "ExecuteTime": {
     "end_time": "2025-10-07T17:20:11.082591Z",
     "start_time": "2025-10-07T17:20:11.066597Z"
    }
   },
   "outputs": [
    {
     "name": "stdout",
     "output_type": "stream",
     "text": [
      "KNN分类准确率: 0.94\n"
     ]
    }
   ],
   "source": [
    "\n",
    "knn_classifier = KNeighborsClassifier(n_neighbors=3)\n",
    "knn_classifier.fit(X_train, y_train)\n",
    "\n",
    "\n",
    "result_knn1 = pd.DataFrame(knn_classifier.predict(X_val))\n",
    "\n",
    "print(\"KNN分类准确率:\", accuracy_score(y_val, result_knn1))\n",
    "manual_comp_reslut1 = pd.concat([result_knn1, pd.DataFrame(y_val)], axis=1)"
   ]
  },
  {
   "cell_type": "markdown",
   "id": "1c3a079afdc75e8a",
   "metadata": {},
   "source": [
    "## used “pipeline” feature"
   ]
  },
  {
   "cell_type": "code",
   "execution_count": 8,
   "id": "d63449fd1a011179",
   "metadata": {
    "ExecuteTime": {
     "end_time": "2025-10-12T22:34:27.902473Z",
     "start_time": "2025-10-12T22:34:19.896096Z"
    }
   },
   "outputs": [
    {
     "name": "stdout",
     "output_type": "stream",
     "text": [
      "KNN_std_准确率: 0.9\n",
      "KNN_std_Only_petal_准确率: 0.94\n",
      "KNN_PCA_降维后的准确率: 0.86\n",
      "KNN_LDA_降维后的准确率: 0.92\n",
      "KNN_umap_降维后的准确率: 0.9\n",
      "==========\n",
      "KNN_std_泛化差距： 0.08999999999999997\n",
      "KNN_std_Only_petal_泛化差距： 0.020000000000000018\n",
      "KNN_PCA_降维后的泛化差距： 0.09999999999999998\n",
      "KNN_LDA_降维后的泛化差距： 0.07999999999999996\n",
      "KNN_umap_降维后的泛化差距： 0.09999999999999998\n"
     ]
    }
   ],
   "source": [
    "pipeline_std = Pipeline([\n",
    "    ('Scaler', StandardScaler()),\n",
    "    ('KNN', KNeighborsClassifier(n_neighbors=2))\n",
    "])\n",
    "\n",
    "pipeline_std_Only_petal = Pipeline([\n",
    "    ('Scaler', StandardScaler()),\n",
    "    ('KNN', KNeighborsClassifier(n_neighbors=2))\n",
    "])\n",
    "\n",
    "\n",
    "pipeline_pca = Pipeline([\n",
    "    ('Scaler', StandardScaler()),\n",
    "    ('PCA', PCA(n_components=2)),\n",
    "    ('KNN', KNeighborsClassifier(n_neighbors=2))\n",
    "])\n",
    "\n",
    "pipeline_lda = Pipeline([\n",
    "    ('Scaler', StandardScaler()),\n",
    "    ('lda', LinearDiscriminantAnalysis(n_components=2)),\n",
    "    ('KNN', KNeighborsClassifier(n_neighbors=2))\n",
    "])\n",
    "\n",
    "pipeline_umap = Pipeline([\n",
    "    ('Scaler', StandardScaler()),\n",
    "    ('umap', UMAP(n_components=2)),\n",
    "    ('KNN', KNeighborsClassifier(n_neighbors=2))\n",
    "])\n",
    "\n",
    "####训练拟合#####\n",
    "\n",
    "pipeline_std.fit(X_train, y_train)\n",
    "pipeline_std_Only_petal.fit(X_train[:, 2:4], y_train)\n",
    "pipeline_pca.fit(X_train, y_train)\n",
    "pipeline_lda.fit(X_train, y_train)\n",
    "pipeline_umap.fit(X_train, y_train)\n",
    "\n",
    "####预测#####\n",
    "result_std = pd.DataFrame(pipeline_std.predict(X_val))\n",
    "result_std_Only_petal = pd.DataFrame(pipeline_std_Only_petal.predict(X_val[:, 2:4]))\n",
    "result_pca = pd.DataFrame(pipeline_pca.predict(X_val))\n",
    "result_lda = pd.DataFrame(pipeline_lda.predict(X_val))\n",
    "result_umap = pd.DataFrame(pipeline_umap.predict(X_val))\n",
    "\n",
    "###评价#####\n",
    "print(\"KNN_std_准确率:\", accuracy_score(y_val, result_std))\n",
    "print(\"KNN_std_Only_petal_准确率:\", accuracy_score(y_val, result_std_Only_petal))\n",
    "print(\"KNN_PCA_降维后的准确率:\", accuracy_score(y_val, result_pca))\n",
    "print(\"KNN_LDA_降维后的准确率:\", accuracy_score(y_val, result_lda))\n",
    "print(\"KNN_umap_降维后的准确率:\", accuracy_score(y_val, result_umap))\n",
    "\n",
    "print(\"==========\")\n",
    "print(\"KNN_std_泛化差距：\", pipeline_std.score(X_train, y_train)-pipeline_std.score(X_val, y_val))\n",
    "print(\"KNN_std_Only_petal_泛化差距：\", pipeline_std_Only_petal.score(X_train[:, 2:4], y_train)-pipeline_std_Only_petal.score(X_val[:, 2:4], y_val))\n",
    "print(\"KNN_PCA_降维后的泛化差距：\", pipeline_pca.score(X_train, y_train)-pipeline_pca.score(X_val, y_val))\n",
    "print(\"KNN_LDA_降维后的泛化差距：\", pipeline_lda.score(X_train, y_train)-pipeline_lda.score(X_val, y_val))\n",
    "print(\"KNN_umap_降维后的泛化差距：\", pipeline_umap.score(X_train, y_train)-pipeline_umap.score(X_val, y_val))\n",
    "\n"
   ]
  },
  {
   "cell_type": "markdown",
   "id": "82e4aa3f900179d",
   "metadata": {},
   "source": [
    "### test KNN method. Use standard data"
   ]
  },
  {
   "cell_type": "code",
   "execution_count": 154,
   "id": "85ebc5c84469f4ac",
   "metadata": {
    "ExecuteTime": {
     "end_time": "2025-10-07T17:17:40.941990Z",
     "start_time": "2025-10-07T17:17:40.921991Z"
    }
   },
   "outputs": [
    {
     "name": "stdout",
     "output_type": "stream",
     "text": [
      "KNN分类准确率: 0.98\n"
     ]
    }
   ],
   "source": [
    "\n",
    "pipeline_std = Pipeline([\n",
    "    ('Scaler', StandardScaler()),\n",
    "    ('KNN', KNeighborsClassifier(n_neighbors=3))\n",
    "])\n",
    "\n",
    "#########开始构建knn#######\n",
    "pipeline_std.fit(X_train, y_train)\n",
    "############开始预测#######\n",
    "\n",
    "result_knn2 = pd.DataFrame(pipeline_std.predict(X_val))\n",
    "print(\"KNN分类准确率:\", accuracy_score(y_val, result_knn2))\n",
    "manual_comp_reslut2 = pd.concat([result_knn2, pd.DataFrame(y_val)], axis=1)\n",
    "manual_comp_reslut2.columns = ['predict', 'y_val']\n"
   ]
  },
  {
   "cell_type": "markdown",
   "id": "7d10b89bd597fb4f",
   "metadata": {},
   "source": [
    "### test KNN method. Use standard data and <mark>PCA</mark>"
   ]
  },
  {
   "cell_type": "code",
   "execution_count": 168,
   "id": "621e910a52e3f75c",
   "metadata": {
    "ExecuteTime": {
     "end_time": "2025-10-07T17:20:31.392096Z",
     "start_time": "2025-10-07T17:20:31.377094Z"
    }
   },
   "outputs": [
    {
     "name": "stdout",
     "output_type": "stream",
     "text": [
      "KNN_标准化_降维后的准确率: 0.86\n"
     ]
    }
   ],
   "source": [
    "pipeline_pca = Pipeline([\n",
    "    ('Scaler', StandardScaler()),\n",
    "    ('PCA', PCA(n_components=2)),\n",
    "    ('KNN', KNeighborsClassifier(n_neighbors=3))\n",
    "])\n",
    "\n",
    "#########开始构建knn#######\n",
    "pipeline_pca.fit(X_train, y_train)\n",
    "############开始预测#######\n",
    "\n",
    "result_knn3 = pd.DataFrame(pipeline_pca.predict(X_val))\n",
    "print(\"KNN_标准化_降维后的准确率:\", accuracy_score(y_val, result_knn3))\n",
    "manual_comp_reslut3 = pd.concat([result_knn3, pd.DataFrame(y_val)], axis=1)\n",
    "manual_comp_reslut3.columns = ['predict', 'y_val']"
   ]
  },
  {
   "cell_type": "markdown",
   "id": "d42f01c98adc6c24",
   "metadata": {},
   "source": [
    "### test KNN method <mark>manual select last two columns"
   ]
  },
  {
   "cell_type": "code",
   "execution_count": 156,
   "id": "d9b327e685b28e83",
   "metadata": {
    "ExecuteTime": {
     "end_time": "2025-10-07T17:17:46.667146Z",
     "start_time": "2025-10-07T17:17:46.653145Z"
    }
   },
   "outputs": [
    {
     "name": "stdout",
     "output_type": "stream",
     "text": [
      "KNN分类准确率: 1.0\n"
     ]
    }
   ],
   "source": [
    "\n",
    "knn_classifier = KNeighborsClassifier(n_neighbors=3)\n",
    "\n",
    "knn_classifier.fit(X[:, -2:], y)\n",
    "\n",
    "result_knn4 = pd.DataFrame(knn_classifier.predict(X_val[:, -2:]))\n",
    "\n",
    "print(\"KNN分类准确率:\", accuracy_score(y_val, result_knn4))\n",
    "manual_comp_reslut4 = pd.concat([result_knn4, pd.DataFrame(y_val)], axis=1)\n"
   ]
  },
  {
   "cell_type": "markdown",
   "id": "a084a526f5b2c3c1",
   "metadata": {},
   "source": [
    "### test KNN method.Used UMAP for data processing"
   ]
  },
  {
   "cell_type": "code",
   "execution_count": null,
   "id": "7118c88b2d63716d",
   "metadata": {},
   "outputs": [],
   "source": [
    "from sklearn.neighbors import KNeighborsClassifier\n",
    "from sklearn.model_selection import train_test_split\n",
    "from sklearn.metrics import accuracy_score\n",
    "\n",
    "\n",
    "\n",
    "X_train, X_test, y_train, y_test = train_test_split(X_umap, y, test_size=0.3, random_state=42)\n",
    "model = KNeighborsClassifier(n_neighbors=3)\n",
    "model.fit(X_train, y_train)\n",
    "y_pred = model.predict(X_test)\n",
    "print(\"Accuracy:\", accuracy_score(y_test, y_pred))"
   ]
  },
  {
   "cell_type": "markdown",
   "id": "770f59d1ee05a943",
   "metadata": {},
   "source": [
    "test logistic regression"
   ]
  },
  {
   "cell_type": "code",
   "execution_count": 23,
   "id": "d68b535bc0005163",
   "metadata": {
    "ExecuteTime": {
     "end_time": "2025-10-06T14:07:14.435831Z",
     "start_time": "2025-10-06T14:07:14.222715Z"
    }
   },
   "outputs": [
    {
     "name": "stdout",
     "output_type": "stream",
     "text": [
      "逻辑回归分类准确率: 0.9733333333333334\n"
     ]
    },
    {
     "name": "stderr",
     "output_type": "stream",
     "text": [
      "C:\\Users\\38473\\.conda\\envs\\ML_learn_310\\lib\\site-packages\\sklearn\\linear_model\\_logistic.py:473: ConvergenceWarning: lbfgs failed to converge after 100 iteration(s) (status=1):\n",
      "STOP: TOTAL NO. OF ITERATIONS REACHED LIMIT\n",
      "\n",
      "Increase the number of iterations to improve the convergence (max_iter=100).\n",
      "You might also want to scale the data as shown in:\n",
      "    https://scikit-learn.org/stable/modules/preprocessing.html\n",
      "Please also refer to the documentation for alternative solver options:\n",
      "    https://scikit-learn.org/stable/modules/linear_model.html#logistic-regression\n",
      "  n_iter_i = _check_optimize_result(\n"
     ]
    }
   ],
   "source": [
    "from sklearn.linear_model import LinearRegression,LogisticRegression\n",
    "\n",
    "LR_model = LogisticRegression()\n",
    "LR_model.fit(X, y)\n",
    "result_LR = pd.DataFrame(LR_model.predict(X))\n",
    "print(\"逻辑回归分类准确率:\", accuracy_score(y, result_LR))"
   ]
  }
 ],
 "metadata": {
  "kernelspec": {
   "display_name": "Python (ML_learn_310)",
   "language": "python",
   "name": "ml_learn_310"
  },
  "language_info": {
   "codemirror_mode": {
    "name": "ipython",
    "version": 3
   },
   "file_extension": ".py",
   "mimetype": "text/x-python",
   "name": "python",
   "nbconvert_exporter": "python",
   "pygments_lexer": "ipython3",
   "version": "3.10.18"
  }
 },
 "nbformat": 4,
 "nbformat_minor": 5
}
