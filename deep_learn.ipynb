{
 "cells": [
  {
   "metadata": {},
   "cell_type": "markdown",
   "source": "构造双半月分类数据集，并使用KNN和MLP进行分类",
   "id": "ebc23a4b0f46ff9e"
  },
  {
   "cell_type": "code",
   "id": "initial_id",
   "metadata": {
    "ExecuteTime": {
     "end_time": "2025-10-19T07:29:56.002125Z",
     "start_time": "2025-10-19T07:29:55.948520Z"
    }
   },
   "source": [
    "import tensorflow as tf\n",
    "\n",
    "from tensorflow.keras.models import Sequential\n",
    "from tensorflow.keras.layers import Dense\n",
    "import numpy as np\n",
    "import pandas as pd\n",
    "import matplotlib.pyplot as plt\n",
    "from sklearn.model_selection import train_test_split\n",
    "from sklearn.preprocessing import StandardScaler\n",
    "from sklearn.datasets import make_moons\n",
    "from plotly import express as px\n",
    "import os\n",
    "\n",
    "os.environ[\"CUDA_VISIBLE_DEVICES\"]=\"0\"\n",
    "X, y = make_moons(n_samples=1000, noise=0.2)\n",
    "moons = pd.DataFrame(pd.concat([pd.DataFrame(X,columns=['x1', 'x2']), pd.DataFrame(y,columns=[\"label\"])], axis=1))\n",
    "\n",
    "fig = px.scatter(moons,\n",
    "                 x='x1',\n",
    "                 y='x2',\n",
    "                 color='label',\n",
    "                 color_continuous_scale=['blue', 'red'],\n",
    "                 title='散点图 - 不同标签用不同颜色表示')\n",
    "\n",
    "fig.show()\n",
    "\n"
   ],
   "outputs": [
    {
     "data": {
      "application/vnd.plotly.v1+json": {
       "data": [
        {
         "hovertemplate": "x1=%{x}<br>x2=%{y}<br>label=%{marker.color}<extra></extra>",
         "legendgroup": "",
         "marker": {
          "color": {
           "dtype": "i1",
           "bdata": "AQABAAABAQEBAAAAAQEAAQABAAEAAQABAAEBAAABAAAAAAAAAAAAAAEAAAEAAAEAAAEAAAABAQEAAQABAQAAAAEAAQAAAQABAAEAAAEAAAEAAAEBAQEAAAEAAAEBAAEBAAAAAAAAAQEBAAEBAAABAQAAAAEAAAABAAEAAAABAAEAAQEAAAEAAAAAAQABAAAAAQEAAQAAAQAAAQABAQEBAAEAAQABAQAAAQABAAEBAQAAAQEBAQEBAQAAAAEAAQABAQEAAAAAAQEAAAAAAQEAAAABAAABAAAAAQEBAQABAQEBAQEBAQEBAQABAQABAAEBAAABAQEBAAEBAQEAAQEAAQABAQABAQAAAQEBAAAAAQAAAAEAAQEAAQEBAAEAAQEBAQEAAQAAAQAAAQABAQABAQABAQAAAQAAAQEBAAAAAQAAAAEBAAAAAAABAAAAAAEAAQEBAAABAAAAAQEAAAEAAAABAQEAAAEBAAEAAAEBAQABAAAAAAEBAQEAAQEBAQAAAQEAAQEAAAABAQEBAAEAAAABAAEAAQEBAAEBAQEAAAABAAABAQAAAQEBAQABAQABAAABAAEAAAABAAAAAQABAQABAQAAAAEBAQABAAEBAQAAAQAAAAEBAQAAAQABAQEAAQAAAQAAAAAAAAEAAQABAAEAAQAAAQEAAAEAAAAAAAEAAQEAAQABAAAAAAABAQABAQABAAEAAQEAAQEBAQEAAQEBAQEBAAEBAQAAAAAAAQAAAAABAAEAAAEBAQEAAQAAAAAAAAABAQEAAQEAAQAAAAEBAAEAAAAAAAEAAAAAAQEAAQEBAQABAQAAAQEAAAABAQAAAAABAQABAQABAAAAAQEBAAEAAAABAAEAAQABAAEAAAABAAEBAQEAAAAAAAEAAQEAAAEAAQEAAAAAAQABAQABAAEAAQEBAAABAQEBAQABAQABAAAAAAAAAAEAAQEAAAABAAABAAEAAQEBAAEAAQABAQEBAQEBAQEBAQEBAQABAAEAAQABAAEAAQABAQEBAAEBAAAAAAEBAAEAAQABAAEBAQEAAQAAAQABAAABAQEBAQEBAQEBAQEBAAABAAEAAAABAQABAQEAAAEBAAEBAQEAAQEBAQABAQEAAQAAAAAAAAEAAAEAAQABAQAAAQABAAABAAEBAQABAQEBAAAAAQABAAEAAAEAAAEBAAAAAAEBAAABAAABAAAAAAABAAEAAQAAAAEBAAABAAEAAAEAAAEBAAABAQEBAAAAAQAAAQEBAAEAAAEBAQEAAAEAAQAAAAAAAQAAAAEAAAEBAQEAAQAAAAEAAAEAAAEAAQABAAEBAQAAAQEBAQ=="
          },
          "coloraxis": "coloraxis",
          "symbol": "circle"
         },
         "mode": "markers",
         "name": "",
         "orientation": "v",
         "showlegend": false,
         "x": {
          "dtype": "f8",
          "bdata": "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"
         },
         "xaxis": "x",
         "y": {
          "dtype": "f8",
          "bdata": "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"
         },
         "yaxis": "y",
         "type": "scatter"
        }
       ],
       "layout": {
        "template": {
         "data": {
          "histogram2dcontour": [
           {
            "type": "histogram2dcontour",
            "colorbar": {
             "outlinewidth": 0,
             "ticks": ""
            },
            "colorscale": [
             [
              0.0,
              "#0d0887"
             ],
             [
              0.1111111111111111,
              "#46039f"
             ],
             [
              0.2222222222222222,
              "#7201a8"
             ],
             [
              0.3333333333333333,
              "#9c179e"
             ],
             [
              0.4444444444444444,
              "#bd3786"
             ],
             [
              0.5555555555555556,
              "#d8576b"
             ],
             [
              0.6666666666666666,
              "#ed7953"
             ],
             [
              0.7777777777777778,
              "#fb9f3a"
             ],
             [
              0.8888888888888888,
              "#fdca26"
             ],
             [
              1.0,
              "#f0f921"
             ]
            ]
           }
          ],
          "choropleth": [
           {
            "type": "choropleth",
            "colorbar": {
             "outlinewidth": 0,
             "ticks": ""
            }
           }
          ],
          "histogram2d": [
           {
            "type": "histogram2d",
            "colorbar": {
             "outlinewidth": 0,
             "ticks": ""
            },
            "colorscale": [
             [
              0.0,
              "#0d0887"
             ],
             [
              0.1111111111111111,
              "#46039f"
             ],
             [
              0.2222222222222222,
              "#7201a8"
             ],
             [
              0.3333333333333333,
              "#9c179e"
             ],
             [
              0.4444444444444444,
              "#bd3786"
             ],
             [
              0.5555555555555556,
              "#d8576b"
             ],
             [
              0.6666666666666666,
              "#ed7953"
             ],
             [
              0.7777777777777778,
              "#fb9f3a"
             ],
             [
              0.8888888888888888,
              "#fdca26"
             ],
             [
              1.0,
              "#f0f921"
             ]
            ]
           }
          ],
          "heatmap": [
           {
            "type": "heatmap",
            "colorbar": {
             "outlinewidth": 0,
             "ticks": ""
            },
            "colorscale": [
             [
              0.0,
              "#0d0887"
             ],
             [
              0.1111111111111111,
              "#46039f"
             ],
             [
              0.2222222222222222,
              "#7201a8"
             ],
             [
              0.3333333333333333,
              "#9c179e"
             ],
             [
              0.4444444444444444,
              "#bd3786"
             ],
             [
              0.5555555555555556,
              "#d8576b"
             ],
             [
              0.6666666666666666,
              "#ed7953"
             ],
             [
              0.7777777777777778,
              "#fb9f3a"
             ],
             [
              0.8888888888888888,
              "#fdca26"
             ],
             [
              1.0,
              "#f0f921"
             ]
            ]
           }
          ],
          "contourcarpet": [
           {
            "type": "contourcarpet",
            "colorbar": {
             "outlinewidth": 0,
             "ticks": ""
            }
           }
          ],
          "contour": [
           {
            "type": "contour",
            "colorbar": {
             "outlinewidth": 0,
             "ticks": ""
            },
            "colorscale": [
             [
              0.0,
              "#0d0887"
             ],
             [
              0.1111111111111111,
              "#46039f"
             ],
             [
              0.2222222222222222,
              "#7201a8"
             ],
             [
              0.3333333333333333,
              "#9c179e"
             ],
             [
              0.4444444444444444,
              "#bd3786"
             ],
             [
              0.5555555555555556,
              "#d8576b"
             ],
             [
              0.6666666666666666,
              "#ed7953"
             ],
             [
              0.7777777777777778,
              "#fb9f3a"
             ],
             [
              0.8888888888888888,
              "#fdca26"
             ],
             [
              1.0,
              "#f0f921"
             ]
            ]
           }
          ],
          "surface": [
           {
            "type": "surface",
            "colorbar": {
             "outlinewidth": 0,
             "ticks": ""
            },
            "colorscale": [
             [
              0.0,
              "#0d0887"
             ],
             [
              0.1111111111111111,
              "#46039f"
             ],
             [
              0.2222222222222222,
              "#7201a8"
             ],
             [
              0.3333333333333333,
              "#9c179e"
             ],
             [
              0.4444444444444444,
              "#bd3786"
             ],
             [
              0.5555555555555556,
              "#d8576b"
             ],
             [
              0.6666666666666666,
              "#ed7953"
             ],
             [
              0.7777777777777778,
              "#fb9f3a"
             ],
             [
              0.8888888888888888,
              "#fdca26"
             ],
             [
              1.0,
              "#f0f921"
             ]
            ]
           }
          ],
          "mesh3d": [
           {
            "type": "mesh3d",
            "colorbar": {
             "outlinewidth": 0,
             "ticks": ""
            }
           }
          ],
          "scatter": [
           {
            "marker": {
             "line": {
              "color": "#283442"
             }
            },
            "type": "scatter"
           }
          ],
          "parcoords": [
           {
            "type": "parcoords",
            "line": {
             "colorbar": {
              "outlinewidth": 0,
              "ticks": ""
             }
            }
           }
          ],
          "scatterpolargl": [
           {
            "type": "scatterpolargl",
            "marker": {
             "colorbar": {
              "outlinewidth": 0,
              "ticks": ""
             }
            }
           }
          ],
          "bar": [
           {
            "error_x": {
             "color": "#f2f5fa"
            },
            "error_y": {
             "color": "#f2f5fa"
            },
            "marker": {
             "line": {
              "color": "rgb(17,17,17)",
              "width": 0.5
             },
             "pattern": {
              "fillmode": "overlay",
              "size": 10,
              "solidity": 0.2
             }
            },
            "type": "bar"
           }
          ],
          "scattergeo": [
           {
            "type": "scattergeo",
            "marker": {
             "colorbar": {
              "outlinewidth": 0,
              "ticks": ""
             }
            }
           }
          ],
          "scatterpolar": [
           {
            "type": "scatterpolar",
            "marker": {
             "colorbar": {
              "outlinewidth": 0,
              "ticks": ""
             }
            }
           }
          ],
          "histogram": [
           {
            "marker": {
             "pattern": {
              "fillmode": "overlay",
              "size": 10,
              "solidity": 0.2
             }
            },
            "type": "histogram"
           }
          ],
          "scattergl": [
           {
            "marker": {
             "line": {
              "color": "#283442"
             }
            },
            "type": "scattergl"
           }
          ],
          "scatter3d": [
           {
            "type": "scatter3d",
            "line": {
             "colorbar": {
              "outlinewidth": 0,
              "ticks": ""
             }
            },
            "marker": {
             "colorbar": {
              "outlinewidth": 0,
              "ticks": ""
             }
            }
           }
          ],
          "scattermap": [
           {
            "type": "scattermap",
            "marker": {
             "colorbar": {
              "outlinewidth": 0,
              "ticks": ""
             }
            }
           }
          ],
          "scattermapbox": [
           {
            "type": "scattermapbox",
            "marker": {
             "colorbar": {
              "outlinewidth": 0,
              "ticks": ""
             }
            }
           }
          ],
          "scatterternary": [
           {
            "type": "scatterternary",
            "marker": {
             "colorbar": {
              "outlinewidth": 0,
              "ticks": ""
             }
            }
           }
          ],
          "scattercarpet": [
           {
            "type": "scattercarpet",
            "marker": {
             "colorbar": {
              "outlinewidth": 0,
              "ticks": ""
             }
            }
           }
          ],
          "carpet": [
           {
            "aaxis": {
             "endlinecolor": "#A2B1C6",
             "gridcolor": "#506784",
             "linecolor": "#506784",
             "minorgridcolor": "#506784",
             "startlinecolor": "#A2B1C6"
            },
            "baxis": {
             "endlinecolor": "#A2B1C6",
             "gridcolor": "#506784",
             "linecolor": "#506784",
             "minorgridcolor": "#506784",
             "startlinecolor": "#A2B1C6"
            },
            "type": "carpet"
           }
          ],
          "table": [
           {
            "cells": {
             "fill": {
              "color": "#506784"
             },
             "line": {
              "color": "rgb(17,17,17)"
             }
            },
            "header": {
             "fill": {
              "color": "#2a3f5f"
             },
             "line": {
              "color": "rgb(17,17,17)"
             }
            },
            "type": "table"
           }
          ],
          "barpolar": [
           {
            "marker": {
             "line": {
              "color": "rgb(17,17,17)",
              "width": 0.5
             },
             "pattern": {
              "fillmode": "overlay",
              "size": 10,
              "solidity": 0.2
             }
            },
            "type": "barpolar"
           }
          ],
          "pie": [
           {
            "automargin": true,
            "type": "pie"
           }
          ]
         },
         "layout": {
          "autotypenumbers": "strict",
          "colorway": [
           "#636efa",
           "#EF553B",
           "#00cc96",
           "#ab63fa",
           "#FFA15A",
           "#19d3f3",
           "#FF6692",
           "#B6E880",
           "#FF97FF",
           "#FECB52"
          ],
          "font": {
           "color": "#f2f5fa"
          },
          "hovermode": "closest",
          "hoverlabel": {
           "align": "left"
          },
          "paper_bgcolor": "rgb(17,17,17)",
          "plot_bgcolor": "rgb(17,17,17)",
          "polar": {
           "bgcolor": "rgb(17,17,17)",
           "angularaxis": {
            "gridcolor": "#506784",
            "linecolor": "#506784",
            "ticks": ""
           },
           "radialaxis": {
            "gridcolor": "#506784",
            "linecolor": "#506784",
            "ticks": ""
           }
          },
          "ternary": {
           "bgcolor": "rgb(17,17,17)",
           "aaxis": {
            "gridcolor": "#506784",
            "linecolor": "#506784",
            "ticks": ""
           },
           "baxis": {
            "gridcolor": "#506784",
            "linecolor": "#506784",
            "ticks": ""
           },
           "caxis": {
            "gridcolor": "#506784",
            "linecolor": "#506784",
            "ticks": ""
           }
          },
          "coloraxis": {
           "colorbar": {
            "outlinewidth": 0,
            "ticks": ""
           }
          },
          "colorscale": {
           "sequential": [
            [
             0.0,
             "#0d0887"
            ],
            [
             0.1111111111111111,
             "#46039f"
            ],
            [
             0.2222222222222222,
             "#7201a8"
            ],
            [
             0.3333333333333333,
             "#9c179e"
            ],
            [
             0.4444444444444444,
             "#bd3786"
            ],
            [
             0.5555555555555556,
             "#d8576b"
            ],
            [
             0.6666666666666666,
             "#ed7953"
            ],
            [
             0.7777777777777778,
             "#fb9f3a"
            ],
            [
             0.8888888888888888,
             "#fdca26"
            ],
            [
             1.0,
             "#f0f921"
            ]
           ],
           "sequentialminus": [
            [
             0.0,
             "#0d0887"
            ],
            [
             0.1111111111111111,
             "#46039f"
            ],
            [
             0.2222222222222222,
             "#7201a8"
            ],
            [
             0.3333333333333333,
             "#9c179e"
            ],
            [
             0.4444444444444444,
             "#bd3786"
            ],
            [
             0.5555555555555556,
             "#d8576b"
            ],
            [
             0.6666666666666666,
             "#ed7953"
            ],
            [
             0.7777777777777778,
             "#fb9f3a"
            ],
            [
             0.8888888888888888,
             "#fdca26"
            ],
            [
             1.0,
             "#f0f921"
            ]
           ],
           "diverging": [
            [
             0,
             "#8e0152"
            ],
            [
             0.1,
             "#c51b7d"
            ],
            [
             0.2,
             "#de77ae"
            ],
            [
             0.3,
             "#f1b6da"
            ],
            [
             0.4,
             "#fde0ef"
            ],
            [
             0.5,
             "#f7f7f7"
            ],
            [
             0.6,
             "#e6f5d0"
            ],
            [
             0.7,
             "#b8e186"
            ],
            [
             0.8,
             "#7fbc41"
            ],
            [
             0.9,
             "#4d9221"
            ],
            [
             1,
             "#276419"
            ]
           ]
          },
          "xaxis": {
           "gridcolor": "#283442",
           "linecolor": "#506784",
           "ticks": "",
           "title": {
            "standoff": 15
           },
           "zerolinecolor": "#283442",
           "automargin": true,
           "zerolinewidth": 2
          },
          "yaxis": {
           "gridcolor": "#283442",
           "linecolor": "#506784",
           "ticks": "",
           "title": {
            "standoff": 15
           },
           "zerolinecolor": "#283442",
           "automargin": true,
           "zerolinewidth": 2
          },
          "scene": {
           "xaxis": {
            "backgroundcolor": "rgb(17,17,17)",
            "gridcolor": "#506784",
            "linecolor": "#506784",
            "showbackground": true,
            "ticks": "",
            "zerolinecolor": "#C8D4E3",
            "gridwidth": 2
           },
           "yaxis": {
            "backgroundcolor": "rgb(17,17,17)",
            "gridcolor": "#506784",
            "linecolor": "#506784",
            "showbackground": true,
            "ticks": "",
            "zerolinecolor": "#C8D4E3",
            "gridwidth": 2
           },
           "zaxis": {
            "backgroundcolor": "rgb(17,17,17)",
            "gridcolor": "#506784",
            "linecolor": "#506784",
            "showbackground": true,
            "ticks": "",
            "zerolinecolor": "#C8D4E3",
            "gridwidth": 2
           }
          },
          "shapedefaults": {
           "line": {
            "color": "#f2f5fa"
           }
          },
          "annotationdefaults": {
           "arrowcolor": "#f2f5fa",
           "arrowhead": 0,
           "arrowwidth": 1
          },
          "geo": {
           "bgcolor": "rgb(17,17,17)",
           "landcolor": "rgb(17,17,17)",
           "subunitcolor": "#506784",
           "showland": true,
           "showlakes": true,
           "lakecolor": "rgb(17,17,17)"
          },
          "title": {
           "x": 0.05
          },
          "updatemenudefaults": {
           "bgcolor": "#506784",
           "borderwidth": 0
          },
          "sliderdefaults": {
           "bgcolor": "#C8D4E3",
           "borderwidth": 1,
           "bordercolor": "rgb(17,17,17)",
           "tickwidth": 0
          },
          "mapbox": {
           "style": "dark"
          }
         }
        },
        "xaxis": {
         "anchor": "y",
         "domain": [
          0.0,
          1.0
         ],
         "title": {
          "text": "x1"
         }
        },
        "yaxis": {
         "anchor": "x",
         "domain": [
          0.0,
          1.0
         ],
         "title": {
          "text": "x2"
         }
        },
        "coloraxis": {
         "colorbar": {
          "title": {
           "text": "label"
          }
         },
         "colorscale": [
          [
           0.0,
           "blue"
          ],
          [
           1.0,
           "red"
          ]
         ]
        },
        "legend": {
         "tracegroupgap": 0
        },
        "title": {
         "text": "散点图 - 不同标签用不同颜色表示"
        }
       },
       "config": {
        "plotlyServerURL": "https://plot.ly"
       }
      }
     },
     "metadata": {},
     "output_type": "display_data"
    }
   ],
   "execution_count": 5
  },
  {
   "metadata": {},
   "cell_type": "markdown",
   "source": "## 1、使用KNN进行分类",
   "id": "eb976ca1a7f94514"
  },
  {
   "metadata": {
    "ExecuteTime": {
     "start_time": "2025-10-18T19:48:39.654044Z"
    }
   },
   "cell_type": "code",
   "source": [
    "from sklearn.neighbors import KNeighborsClassifier\n",
    "\n",
    "KNN = KNeighborsClassifier(n_neighbors=10)\n",
    "KNN.fit(X,y)  # predict_centre为使用K_Means计算出来的中心，在这里相当于数据标签\n",
    "# a = pd.DataFrame([5,5]).T\n",
    "\n",
    "result = KNN.predict(X) # 转置之后才是 1行2列 的数据，或者使用KNN.predict(pd.array([5,5]))\n",
    "\n",
    "import plotly.graph_objects as go\n",
    "\n",
    "# 定义网格边界（稍微扩展数据范围以更好地显示边界）\n",
    "x_min, x_max = X[:, 0].min() - 1, X[:, 0].max() + 1\n",
    "y_min, y_max = X[:, 1].min() - 1, X[:, 1].max() + 1\n",
    "\n",
    "# 创建网格点\n",
    "xx, yy = np.meshgrid(np.arange(x_min, x_max, 0.02),\n",
    "                     np.arange(y_min, y_max, 0.02))\n",
    "\n",
    "# 预测网格点的类别\n",
    "Z = KNN.predict(np.c_[xx.ravel(), yy.ravel()])\n",
    "Z = Z.reshape(xx.shape)\n",
    "\n",
    "fig = go.Figure()\n",
    "\n",
    "# 添加决策边界背景（使用等高线图）\n",
    "fig.add_trace(go.Contour(\n",
    "    x=np.arange(x_min, x_max, 0.02),\n",
    "    y=np.arange(y_min, y_max, 0.02),\n",
    "    z=Z,\n",
    "    showscale=False,\n",
    "    opacity=0.4,\n",
    "    colorscale='Viridis'  # 可根据类别数调整颜色映射\n",
    "))\n",
    "\n",
    "# 添加原始数据点\n",
    "fig.add_trace(go.Scatter(\n",
    "    x=X[:, 0],\n",
    "    y=X[:, 1],\n",
    "    mode='markers',\n",
    "    marker=dict(\n",
    "        color=y,\n",
    "        colorscale='Viridis',\n",
    "        showscale=False\n",
    "    ),\n",
    "    showlegend=False\n",
    "))\n",
    "\n",
    "# 更新布局\n",
    "fig.update_layout(\n",
    "    title='KNN Decision Boundary',\n",
    "    xaxis_title='Feature 1',\n",
    "    yaxis_title='Feature 2'\n",
    ")\n",
    "\n",
    "# 显示图形\n",
    "fig.show()\n",
    "\n",
    "#\n",
    "# print(result_cluster)\n",
    "\n",
    "\n",
    "\n"
   ],
   "id": "2a2bf177d73de944",
   "outputs": [],
   "execution_count": null
  },
  {
   "metadata": {},
   "cell_type": "markdown",
   "source": "## 2、使用MLP进行分类",
   "id": "ea904f7216e4454b"
  },
  {
   "metadata": {
    "ExecuteTime": {
     "end_time": "2025-10-19T07:34:19.744785Z",
     "start_time": "2025-10-19T07:31:32.091628Z"
    }
   },
   "cell_type": "code",
   "source": [
    "X_train,X_test,y_train,y_test = train_test_split(X,y,test_size=0.3,random_state=42)\n",
    "\n",
    "mlp = Sequential()\n",
    "mlp.add(Dense(units=20,input_dim=2,activation=\"sigmoid\"))\n",
    "mlp.add(Dense(units=1,activation=\"sigmoid\"))\n",
    "mlp.summary()\n",
    "\n",
    "mlp.compile(optimizer=\"adam\",loss=\"binary_crossentropy\",)\n",
    "\n",
    "# os.environ[\"CUDA_VISIBLE_DEVICES\"]=\"0\"\n",
    "with tf.device('/GPU:0'):\n",
    "    mlp.fit(X_train,y_train,epochs=5000, verbose=0)"
   ],
   "id": "d7202f6d51727f5e",
   "outputs": [
    {
     "name": "stdout",
     "output_type": "stream",
     "text": [
      "Model: \"sequential_2\"\n",
      "_________________________________________________________________\n",
      " Layer (type)                Output Shape              Param #   \n",
      "=================================================================\n",
      " dense_4 (Dense)             (None, 20)                60        \n",
      "                                                                 \n",
      " dense_5 (Dense)             (None, 1)                 21        \n",
      "                                                                 \n",
      "=================================================================\n",
      "Total params: 81\n",
      "Trainable params: 81\n",
      "Non-trainable params: 0\n",
      "_________________________________________________________________\n"
     ]
    }
   ],
   "execution_count": 8
  }
 ],
 "metadata": {
  "kernelspec": {
   "display_name": "Python (ML_GPU_309)",
   "language": "python",
   "name": "ml_gpu_309"
  },
  "language_info": {
   "codemirror_mode": {
    "name": "ipython",
    "version": 3
   },
   "file_extension": ".py",
   "mimetype": "text/x-python",
   "name": "python",
   "nbconvert_exporter": "python",
   "pygments_lexer": "ipython3",
   "version": "3.10.18"
  }
 },
 "nbformat": 4,
 "nbformat_minor": 5
}
